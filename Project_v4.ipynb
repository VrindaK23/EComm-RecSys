{
  "nbformat": 4,
  "nbformat_minor": 0,
  "metadata": {
    "colab": {
      "provenance": [],
      "gpuType": "T4",
      "mount_file_id": "1jA0F8Lk4nJJj_QVuBLu49TBq2mTG2o4h",
      "authorship_tag": "ABX9TyMJSs++EjUOGBQkez5MRM5y",
      "include_colab_link": true
    },
    "kernelspec": {
      "name": "python3",
      "display_name": "Python 3"
    },
    "language_info": {
      "name": "python"
    },
    "accelerator": "GPU"
  },
  "cells": [
    {
      "cell_type": "markdown",
      "metadata": {
        "id": "view-in-github",
        "colab_type": "text"
      },
      "source": [
        "<a href=\"https://colab.research.google.com/github/VrindaK23/EComm-RecSys/blob/main/Project_v4.ipynb\" target=\"_parent\"><img src=\"https://colab.research.google.com/assets/colab-badge.svg\" alt=\"Open In Colab\"/></a>"
      ]
    },
    {
      "cell_type": "markdown",
      "source": [
        "# **Recommendation System for E-Commerce🛍️🛒**"
      ],
      "metadata": {
        "id": "BwGpno7qhL0D"
      }
    },
    {
      "cell_type": "markdown",
      "source": [
        "###📦 **Fixing Compatibility Issues: NumPy & Scikit-Surprise**\n",
        "To resolve the compatibility error between NumPy 2.x and the scikit-surprise library, we downgrade NumPy to a stable version (1.24.4) and reinstall scikit-surprise to rebuild it properly.\n",
        "\n",
        "`💡 Note: After running the cell below, you must restart the runtime before continuing.`"
      ],
      "metadata": {
        "id": "8aUhKOvgwFy0"
      }
    },
    {
      "cell_type": "code",
      "source": [
        "!pip install numpy==1.24.4\n",
        "!pip install scikit-surprise --no-cache-dir"
      ],
      "metadata": {
        "colab": {
          "base_uri": "https://localhost:8080/",
          "height": 512
        },
        "id": "aI_2mtEAvUan",
        "outputId": "7d074c3e-d6f3-4bff-80c3-79be7c0568c9"
      },
      "execution_count": 2,
      "outputs": [
        {
          "output_type": "stream",
          "name": "stdout",
          "text": [
            "Collecting numpy==1.24.4\n",
            "  Downloading numpy-1.24.4-cp311-cp311-manylinux_2_17_x86_64.manylinux2014_x86_64.whl.metadata (5.6 kB)\n",
            "Downloading numpy-1.24.4-cp311-cp311-manylinux_2_17_x86_64.manylinux2014_x86_64.whl (17.3 MB)\n",
            "\u001b[2K   \u001b[90m━━━━━━━━━━━━━━━━━━━━━━━━━━━━━━━━━━━━━━━━\u001b[0m \u001b[32m17.3/17.3 MB\u001b[0m \u001b[31m63.8 MB/s\u001b[0m eta \u001b[36m0:00:00\u001b[0m\n",
            "\u001b[?25hInstalling collected packages: numpy\n",
            "  Attempting uninstall: numpy\n",
            "    Found existing installation: numpy 2.0.2\n",
            "    Uninstalling numpy-2.0.2:\n",
            "      Successfully uninstalled numpy-2.0.2\n",
            "\u001b[31mERROR: pip's dependency resolver does not currently take into account all the packages that are installed. This behaviour is the source of the following dependency conflicts.\n",
            "jaxlib 0.5.1 requires numpy>=1.25, but you have numpy 1.24.4 which is incompatible.\n",
            "tensorflow 2.18.0 requires numpy<2.1.0,>=1.26.0, but you have numpy 1.24.4 which is incompatible.\n",
            "treescope 0.1.9 requires numpy>=1.25.2, but you have numpy 1.24.4 which is incompatible.\n",
            "jax 0.5.2 requires numpy>=1.25, but you have numpy 1.24.4 which is incompatible.\n",
            "pymc 5.21.2 requires numpy>=1.25.0, but you have numpy 1.24.4 which is incompatible.\n",
            "blosc2 3.2.1 requires numpy>=1.26, but you have numpy 1.24.4 which is incompatible.\u001b[0m\u001b[31m\n",
            "\u001b[0mSuccessfully installed numpy-1.24.4\n"
          ]
        },
        {
          "output_type": "display_data",
          "data": {
            "application/vnd.colab-display-data+json": {
              "pip_warning": {
                "packages": [
                  "numpy"
                ]
              },
              "id": "07f7f964c5da4cb6ae9f151bab247eea"
            }
          },
          "metadata": {}
        },
        {
          "output_type": "stream",
          "name": "stdout",
          "text": [
            "Collecting scikit-surprise\n",
            "  Downloading scikit_surprise-1.1.4.tar.gz (154 kB)\n",
            "\u001b[?25l     \u001b[90m━━━━━━━━━━━━━━━━━━━━━━━━━━━━━━━━━━━━━━━━\u001b[0m \u001b[32m0.0/154.4 kB\u001b[0m \u001b[31m?\u001b[0m eta \u001b[36m-:--:--\u001b[0m\r\u001b[2K     \u001b[90m━━━━━━━━━━━━━━━━━━━━━━━━━━━━━━━━━━━━━━━━\u001b[0m \u001b[32m154.4/154.4 kB\u001b[0m \u001b[31m38.9 MB/s\u001b[0m eta \u001b[36m0:00:00\u001b[0m\n",
            "\u001b[?25h  Installing build dependencies ... \u001b[?25l\u001b[?25hcanceled\n",
            "\u001b[31mERROR: Operation cancelled by user\u001b[0m\u001b[31m\n",
            "\u001b[0m^C\n"
          ]
        }
      ]
    },
    {
      "cell_type": "markdown",
      "source": [
        "## ✅ E-Commerce Recommendation System Checklist\n",
        "\n",
        "### **1. Problem Definition & Business Understanding**\n",
        "✅ Define project goals and objectives  \n",
        "✅ Identify recommendation techniques (CF, CBF, Hybrid)\n",
        "\n",
        "### **2. Data Collection & Understanding**\n",
        "✅ Load e-commerce transaction dataset  \n",
        "✅ Perform basic data exploration and visualization  \n",
        "\n",
        "### **3. Data Preprocessing & Feature Engineering**\n",
        "✅ Clean and preprocess dataset  \n",
        "✅ Encode categorical variables  \n",
        "✅ Normalize numerical features (where needed)  \n",
        "\n",
        "### **4. Model Development**\n",
        "#### Collaborative Filtering (CF)\n",
        "✅ Load Surprise Library  \n",
        "✅ Implement SVD (matrix factorization technique)  \n",
        "✅ Train-Test Split using Surprise  \n",
        "⬜ Evaluate SVD Model (RMSE, MAE, etc.)  \n",
        "⬜ Optimize and fine-tune hyperparameters\n",
        "\n",
        "#### Content-Based Filtering (CBF)\n",
        "✅ Extract product features using TF-IDF  \n",
        "✅ Build cosine similarity matrix  \n",
        "⬜ Generate user-personalized recommendations  \n",
        "⬜ Apply filters for duplicate/removal/relevance  \n",
        "⬜ Evaluate model on sample queries or user history\n",
        "\n",
        "#### Hybrid Recommendation System\n",
        "⬜ Design method to combine CF and CBF (e.g., weighted average)  \n",
        "⬜ Implement hybrid scoring and ranking system  \n",
        "⬜ Generate final recommendations  \n",
        "\n",
        "### **5. Model Evaluation & Optimization**\n",
        "⬜ Compare CF vs. CBF performance  \n",
        "⬜ Measure metrics: RMSE, Precision@K, Recall@K  \n",
        "⬜ Tune model parameters based on results  \n",
        "\n",
        "### **6. Deployment & Integration**\n",
        "⬜ Export trained models (pickle/joblib)  \n",
        "⬜ Build minimal Flask web app or script interface  \n",
        "⬜ Integrate user input and output recommendations  \n",
        "\n",
        "### **7. Documentation & Reporting**\n",
        "⬜ Add markdown explanations in notebook  \n",
        "⬜ Document all stages with assumptions/decisions  \n",
        "⬜ Prepare presentation/report  "
      ],
      "metadata": {
        "id": "GhCukt1PMUfb"
      }
    },
    {
      "cell_type": "code",
      "source": [
        "from IPython.display import Markdown, display\n",
        "\n",
        "def progress_tracker():\n",
        "    progress_md = \"\"\"\n",
        "### 🧭 **E-Commerce Recommendation System Progress Tracker**\n",
        "\n",
        "| 📌 Task                                              | ✅ Status       |\n",
        "|------------------------------------------------------|-----------------|\n",
        "| Define business goals & project scope                | ✅ Completed     |\n",
        "| Select recommendation approach (CF, CBF, Hybrid)     | ✅ Completed     |\n",
        "| Load and explore dataset                             | ✅ Completed     |\n",
        "| Data preprocessing                                   | ✅ Completed     |\n",
        "| Build Collaborative Filtering (User-based, Item-based) | ✅ Implemented   |\n",
        "| CF Optimization & Hyperparameter Tuning              | ⬜ In Progress   |\n",
        "| Extract product features for CBF                     | ⬜ Not Started   |\n",
        "| Build Content-Based Filtering model                  | ⬜ Not Started   |\n",
        "| Combine CF & CBF for Hybrid approach                 | ⬜ Not Started   |\n",
        "| Model Evaluation (RMSE, Precision, Recall)           | ⬜ Not Started   |\n",
        "| Deployment using Flask/Django                        | ⬜ Not Started   |\n",
        "| Documentation & final presentation                   | ⬜ In Progress   |\n",
        "\"\"\"\n",
        "    display(Markdown(progress_md))\n",
        "\n",
        "# Call the function to display the progress tracker\n",
        "progress_tracker()\n"
      ],
      "metadata": {
        "colab": {
          "base_uri": "https://localhost:8080/",
          "height": 466
        },
        "id": "CTCS1OZdMxlo",
        "outputId": "74821ea6-9cb2-4b15-aeb4-0eade3e7581c"
      },
      "execution_count": 1,
      "outputs": [
        {
          "output_type": "display_data",
          "data": {
            "text/plain": [
              "<IPython.core.display.Markdown object>"
            ],
            "text/markdown": "\n### 🧭 **E-Commerce Recommendation System Progress Tracker**\n\n| 📌 Task                                              | ✅ Status       |\n|------------------------------------------------------|-----------------|\n| Define business goals & project scope                | ✅ Completed     |\n| Select recommendation approach (CF, CBF, Hybrid)     | ✅ Completed     |\n| Load and explore dataset                             | ✅ Completed     |\n| Data preprocessing                                   | ✅ Completed     |\n| Build Collaborative Filtering (User-based, Item-based) | ✅ Implemented   |\n| CF Optimization & Hyperparameter Tuning              | ⬜ In Progress   |\n| Extract product features for CBF                     | ⬜ Not Started   |\n| Build Content-Based Filtering model                  | ⬜ Not Started   |\n| Combine CF & CBF for Hybrid approach                 | ⬜ Not Started   |\n| Model Evaluation (RMSE, Precision, Recall)           | ⬜ Not Started   |\n| Deployment using Flask/Django                        | ⬜ Not Started   |\n| Documentation & final presentation                   | ⬜ In Progress   |\n"
          },
          "metadata": {}
        }
      ]
    },
    {
      "cell_type": "markdown",
      "source": [
        "## **🔗Mounting the Google Drive**"
      ],
      "metadata": {
        "id": "iK-9PCP1hhnf"
      }
    },
    {
      "cell_type": "code",
      "source": [
        "from google.colab import drive\n",
        "drive.mount('/content/drive')"
      ],
      "metadata": {
        "colab": {
          "base_uri": "https://localhost:8080/"
        },
        "id": "-SOpbx5Q9wSI",
        "outputId": "f9b017fe-1cac-4bc8-b953-3903b56e39e0"
      },
      "execution_count": 2,
      "outputs": [
        {
          "output_type": "stream",
          "name": "stdout",
          "text": [
            "Drive already mounted at /content/drive; to attempt to forcibly remount, call drive.mount(\"/content/drive\", force_remount=True).\n"
          ]
        }
      ]
    },
    {
      "cell_type": "markdown",
      "source": [
        "## **🔎Dataset Overview**\n",
        "This dataset contains fashion product details, which will be used to build a recommendation system.\n",
        "We will explore its structure, check for missing values, duplicates, and analyze numerical and categorical features."
      ],
      "metadata": {
        "id": "XLR8LXVptuQK"
      }
    },
    {
      "cell_type": "markdown",
      "source": [
        "## **📌 Phase 1: Data Preparation & Exploration**"
      ],
      "metadata": {
        "id": "6_Z2Z-S3wyBR"
      }
    },
    {
      "cell_type": "markdown",
      "source": [
        "### **Step 1: Load the Dataset**\n",
        "\n",
        "We begin by loading our dataset from a CSV file using Pandas.  \n",
        "This dataset contains fashion product details, which we will analyze  \n",
        "before implementing a recommendation system."
      ],
      "metadata": {
        "id": "aq1oYTiaL4oL"
      }
    },
    {
      "cell_type": "code",
      "execution_count": 3,
      "metadata": {
        "id": "I38N0BGwBlTg"
      },
      "outputs": [],
      "source": [
        "# Import necessary libraries\n",
        "import pandas as pd\n",
        "import numpy as np\n",
        "\n",
        "# Load the dataset\n",
        "file_path = '/content/drive/MyDrive/Datasets📊/fashion_products.csv'\n",
        "df = pd.read_csv(file_path)"
      ]
    },
    {
      "cell_type": "code",
      "source": [
        "# Display the first few rows\n",
        "display(df.head())"
      ],
      "metadata": {
        "id": "tKHT1T7QraxQ",
        "colab": {
          "base_uri": "https://localhost:8080/",
          "height": 206
        },
        "outputId": "897b5722-bc13-4e61-e440-ced4920e55d6"
      },
      "execution_count": 4,
      "outputs": [
        {
          "output_type": "display_data",
          "data": {
            "text/plain": [
              "   User ID  Product ID Product Name   Brand         Category  Price    Rating  \\\n",
              "0       19           1        Dress  Adidas    Men's Fashion     40  1.043159   \n",
              "1       97           2        Shoes     H&M  Women's Fashion     82  4.026416   \n",
              "2       25           3        Dress  Adidas  Women's Fashion     44  3.337938   \n",
              "3       57           4        Shoes    Zara    Men's Fashion     23  1.049523   \n",
              "4       79           5      T-shirt  Adidas    Men's Fashion     79  4.302773   \n",
              "\n",
              "    Color Size  \n",
              "0   Black   XL  \n",
              "1   Black    L  \n",
              "2  Yellow   XL  \n",
              "3   White    S  \n",
              "4   Black    M  "
            ],
            "text/html": [
              "\n",
              "  <div id=\"df-2856f366-bf38-43c3-b6b1-0b90ca756ccf\" class=\"colab-df-container\">\n",
              "    <div>\n",
              "<style scoped>\n",
              "    .dataframe tbody tr th:only-of-type {\n",
              "        vertical-align: middle;\n",
              "    }\n",
              "\n",
              "    .dataframe tbody tr th {\n",
              "        vertical-align: top;\n",
              "    }\n",
              "\n",
              "    .dataframe thead th {\n",
              "        text-align: right;\n",
              "    }\n",
              "</style>\n",
              "<table border=\"1\" class=\"dataframe\">\n",
              "  <thead>\n",
              "    <tr style=\"text-align: right;\">\n",
              "      <th></th>\n",
              "      <th>User ID</th>\n",
              "      <th>Product ID</th>\n",
              "      <th>Product Name</th>\n",
              "      <th>Brand</th>\n",
              "      <th>Category</th>\n",
              "      <th>Price</th>\n",
              "      <th>Rating</th>\n",
              "      <th>Color</th>\n",
              "      <th>Size</th>\n",
              "    </tr>\n",
              "  </thead>\n",
              "  <tbody>\n",
              "    <tr>\n",
              "      <th>0</th>\n",
              "      <td>19</td>\n",
              "      <td>1</td>\n",
              "      <td>Dress</td>\n",
              "      <td>Adidas</td>\n",
              "      <td>Men's Fashion</td>\n",
              "      <td>40</td>\n",
              "      <td>1.043159</td>\n",
              "      <td>Black</td>\n",
              "      <td>XL</td>\n",
              "    </tr>\n",
              "    <tr>\n",
              "      <th>1</th>\n",
              "      <td>97</td>\n",
              "      <td>2</td>\n",
              "      <td>Shoes</td>\n",
              "      <td>H&amp;M</td>\n",
              "      <td>Women's Fashion</td>\n",
              "      <td>82</td>\n",
              "      <td>4.026416</td>\n",
              "      <td>Black</td>\n",
              "      <td>L</td>\n",
              "    </tr>\n",
              "    <tr>\n",
              "      <th>2</th>\n",
              "      <td>25</td>\n",
              "      <td>3</td>\n",
              "      <td>Dress</td>\n",
              "      <td>Adidas</td>\n",
              "      <td>Women's Fashion</td>\n",
              "      <td>44</td>\n",
              "      <td>3.337938</td>\n",
              "      <td>Yellow</td>\n",
              "      <td>XL</td>\n",
              "    </tr>\n",
              "    <tr>\n",
              "      <th>3</th>\n",
              "      <td>57</td>\n",
              "      <td>4</td>\n",
              "      <td>Shoes</td>\n",
              "      <td>Zara</td>\n",
              "      <td>Men's Fashion</td>\n",
              "      <td>23</td>\n",
              "      <td>1.049523</td>\n",
              "      <td>White</td>\n",
              "      <td>S</td>\n",
              "    </tr>\n",
              "    <tr>\n",
              "      <th>4</th>\n",
              "      <td>79</td>\n",
              "      <td>5</td>\n",
              "      <td>T-shirt</td>\n",
              "      <td>Adidas</td>\n",
              "      <td>Men's Fashion</td>\n",
              "      <td>79</td>\n",
              "      <td>4.302773</td>\n",
              "      <td>Black</td>\n",
              "      <td>M</td>\n",
              "    </tr>\n",
              "  </tbody>\n",
              "</table>\n",
              "</div>\n",
              "    <div class=\"colab-df-buttons\">\n",
              "\n",
              "  <div class=\"colab-df-container\">\n",
              "    <button class=\"colab-df-convert\" onclick=\"convertToInteractive('df-2856f366-bf38-43c3-b6b1-0b90ca756ccf')\"\n",
              "            title=\"Convert this dataframe to an interactive table.\"\n",
              "            style=\"display:none;\">\n",
              "\n",
              "  <svg xmlns=\"http://www.w3.org/2000/svg\" height=\"24px\" viewBox=\"0 -960 960 960\">\n",
              "    <path d=\"M120-120v-720h720v720H120Zm60-500h600v-160H180v160Zm220 220h160v-160H400v160Zm0 220h160v-160H400v160ZM180-400h160v-160H180v160Zm440 0h160v-160H620v160ZM180-180h160v-160H180v160Zm440 0h160v-160H620v160Z\"/>\n",
              "  </svg>\n",
              "    </button>\n",
              "\n",
              "  <style>\n",
              "    .colab-df-container {\n",
              "      display:flex;\n",
              "      gap: 12px;\n",
              "    }\n",
              "\n",
              "    .colab-df-convert {\n",
              "      background-color: #E8F0FE;\n",
              "      border: none;\n",
              "      border-radius: 50%;\n",
              "      cursor: pointer;\n",
              "      display: none;\n",
              "      fill: #1967D2;\n",
              "      height: 32px;\n",
              "      padding: 0 0 0 0;\n",
              "      width: 32px;\n",
              "    }\n",
              "\n",
              "    .colab-df-convert:hover {\n",
              "      background-color: #E2EBFA;\n",
              "      box-shadow: 0px 1px 2px rgba(60, 64, 67, 0.3), 0px 1px 3px 1px rgba(60, 64, 67, 0.15);\n",
              "      fill: #174EA6;\n",
              "    }\n",
              "\n",
              "    .colab-df-buttons div {\n",
              "      margin-bottom: 4px;\n",
              "    }\n",
              "\n",
              "    [theme=dark] .colab-df-convert {\n",
              "      background-color: #3B4455;\n",
              "      fill: #D2E3FC;\n",
              "    }\n",
              "\n",
              "    [theme=dark] .colab-df-convert:hover {\n",
              "      background-color: #434B5C;\n",
              "      box-shadow: 0px 1px 3px 1px rgba(0, 0, 0, 0.15);\n",
              "      filter: drop-shadow(0px 1px 2px rgba(0, 0, 0, 0.3));\n",
              "      fill: #FFFFFF;\n",
              "    }\n",
              "  </style>\n",
              "\n",
              "    <script>\n",
              "      const buttonEl =\n",
              "        document.querySelector('#df-2856f366-bf38-43c3-b6b1-0b90ca756ccf button.colab-df-convert');\n",
              "      buttonEl.style.display =\n",
              "        google.colab.kernel.accessAllowed ? 'block' : 'none';\n",
              "\n",
              "      async function convertToInteractive(key) {\n",
              "        const element = document.querySelector('#df-2856f366-bf38-43c3-b6b1-0b90ca756ccf');\n",
              "        const dataTable =\n",
              "          await google.colab.kernel.invokeFunction('convertToInteractive',\n",
              "                                                    [key], {});\n",
              "        if (!dataTable) return;\n",
              "\n",
              "        const docLinkHtml = 'Like what you see? Visit the ' +\n",
              "          '<a target=\"_blank\" href=https://colab.research.google.com/notebooks/data_table.ipynb>data table notebook</a>'\n",
              "          + ' to learn more about interactive tables.';\n",
              "        element.innerHTML = '';\n",
              "        dataTable['output_type'] = 'display_data';\n",
              "        await google.colab.output.renderOutput(dataTable, element);\n",
              "        const docLink = document.createElement('div');\n",
              "        docLink.innerHTML = docLinkHtml;\n",
              "        element.appendChild(docLink);\n",
              "      }\n",
              "    </script>\n",
              "  </div>\n",
              "\n",
              "\n",
              "<div id=\"df-4f33db29-72ed-4c00-84d9-09197945e046\">\n",
              "  <button class=\"colab-df-quickchart\" onclick=\"quickchart('df-4f33db29-72ed-4c00-84d9-09197945e046')\"\n",
              "            title=\"Suggest charts\"\n",
              "            style=\"display:none;\">\n",
              "\n",
              "<svg xmlns=\"http://www.w3.org/2000/svg\" height=\"24px\"viewBox=\"0 0 24 24\"\n",
              "     width=\"24px\">\n",
              "    <g>\n",
              "        <path d=\"M19 3H5c-1.1 0-2 .9-2 2v14c0 1.1.9 2 2 2h14c1.1 0 2-.9 2-2V5c0-1.1-.9-2-2-2zM9 17H7v-7h2v7zm4 0h-2V7h2v10zm4 0h-2v-4h2v4z\"/>\n",
              "    </g>\n",
              "</svg>\n",
              "  </button>\n",
              "\n",
              "<style>\n",
              "  .colab-df-quickchart {\n",
              "      --bg-color: #E8F0FE;\n",
              "      --fill-color: #1967D2;\n",
              "      --hover-bg-color: #E2EBFA;\n",
              "      --hover-fill-color: #174EA6;\n",
              "      --disabled-fill-color: #AAA;\n",
              "      --disabled-bg-color: #DDD;\n",
              "  }\n",
              "\n",
              "  [theme=dark] .colab-df-quickchart {\n",
              "      --bg-color: #3B4455;\n",
              "      --fill-color: #D2E3FC;\n",
              "      --hover-bg-color: #434B5C;\n",
              "      --hover-fill-color: #FFFFFF;\n",
              "      --disabled-bg-color: #3B4455;\n",
              "      --disabled-fill-color: #666;\n",
              "  }\n",
              "\n",
              "  .colab-df-quickchart {\n",
              "    background-color: var(--bg-color);\n",
              "    border: none;\n",
              "    border-radius: 50%;\n",
              "    cursor: pointer;\n",
              "    display: none;\n",
              "    fill: var(--fill-color);\n",
              "    height: 32px;\n",
              "    padding: 0;\n",
              "    width: 32px;\n",
              "  }\n",
              "\n",
              "  .colab-df-quickchart:hover {\n",
              "    background-color: var(--hover-bg-color);\n",
              "    box-shadow: 0 1px 2px rgba(60, 64, 67, 0.3), 0 1px 3px 1px rgba(60, 64, 67, 0.15);\n",
              "    fill: var(--button-hover-fill-color);\n",
              "  }\n",
              "\n",
              "  .colab-df-quickchart-complete:disabled,\n",
              "  .colab-df-quickchart-complete:disabled:hover {\n",
              "    background-color: var(--disabled-bg-color);\n",
              "    fill: var(--disabled-fill-color);\n",
              "    box-shadow: none;\n",
              "  }\n",
              "\n",
              "  .colab-df-spinner {\n",
              "    border: 2px solid var(--fill-color);\n",
              "    border-color: transparent;\n",
              "    border-bottom-color: var(--fill-color);\n",
              "    animation:\n",
              "      spin 1s steps(1) infinite;\n",
              "  }\n",
              "\n",
              "  @keyframes spin {\n",
              "    0% {\n",
              "      border-color: transparent;\n",
              "      border-bottom-color: var(--fill-color);\n",
              "      border-left-color: var(--fill-color);\n",
              "    }\n",
              "    20% {\n",
              "      border-color: transparent;\n",
              "      border-left-color: var(--fill-color);\n",
              "      border-top-color: var(--fill-color);\n",
              "    }\n",
              "    30% {\n",
              "      border-color: transparent;\n",
              "      border-left-color: var(--fill-color);\n",
              "      border-top-color: var(--fill-color);\n",
              "      border-right-color: var(--fill-color);\n",
              "    }\n",
              "    40% {\n",
              "      border-color: transparent;\n",
              "      border-right-color: var(--fill-color);\n",
              "      border-top-color: var(--fill-color);\n",
              "    }\n",
              "    60% {\n",
              "      border-color: transparent;\n",
              "      border-right-color: var(--fill-color);\n",
              "    }\n",
              "    80% {\n",
              "      border-color: transparent;\n",
              "      border-right-color: var(--fill-color);\n",
              "      border-bottom-color: var(--fill-color);\n",
              "    }\n",
              "    90% {\n",
              "      border-color: transparent;\n",
              "      border-bottom-color: var(--fill-color);\n",
              "    }\n",
              "  }\n",
              "</style>\n",
              "\n",
              "  <script>\n",
              "    async function quickchart(key) {\n",
              "      const quickchartButtonEl =\n",
              "        document.querySelector('#' + key + ' button');\n",
              "      quickchartButtonEl.disabled = true;  // To prevent multiple clicks.\n",
              "      quickchartButtonEl.classList.add('colab-df-spinner');\n",
              "      try {\n",
              "        const charts = await google.colab.kernel.invokeFunction(\n",
              "            'suggestCharts', [key], {});\n",
              "      } catch (error) {\n",
              "        console.error('Error during call to suggestCharts:', error);\n",
              "      }\n",
              "      quickchartButtonEl.classList.remove('colab-df-spinner');\n",
              "      quickchartButtonEl.classList.add('colab-df-quickchart-complete');\n",
              "    }\n",
              "    (() => {\n",
              "      let quickchartButtonEl =\n",
              "        document.querySelector('#df-4f33db29-72ed-4c00-84d9-09197945e046 button');\n",
              "      quickchartButtonEl.style.display =\n",
              "        google.colab.kernel.accessAllowed ? 'block' : 'none';\n",
              "    })();\n",
              "  </script>\n",
              "</div>\n",
              "\n",
              "    </div>\n",
              "  </div>\n"
            ],
            "application/vnd.google.colaboratory.intrinsic+json": {
              "type": "dataframe",
              "summary": "{\n  \"name\": \"display(df\",\n  \"rows\": 5,\n  \"fields\": [\n    {\n      \"column\": \"User ID\",\n      \"properties\": {\n        \"dtype\": \"number\",\n        \"std\": 33,\n        \"min\": 19,\n        \"max\": 97,\n        \"num_unique_values\": 5,\n        \"samples\": [\n          97,\n          79,\n          25\n        ],\n        \"semantic_type\": \"\",\n        \"description\": \"\"\n      }\n    },\n    {\n      \"column\": \"Product ID\",\n      \"properties\": {\n        \"dtype\": \"number\",\n        \"std\": 1,\n        \"min\": 1,\n        \"max\": 5,\n        \"num_unique_values\": 5,\n        \"samples\": [\n          2,\n          5,\n          3\n        ],\n        \"semantic_type\": \"\",\n        \"description\": \"\"\n      }\n    },\n    {\n      \"column\": \"Product Name\",\n      \"properties\": {\n        \"dtype\": \"string\",\n        \"num_unique_values\": 3,\n        \"samples\": [\n          \"Dress\",\n          \"Shoes\",\n          \"T-shirt\"\n        ],\n        \"semantic_type\": \"\",\n        \"description\": \"\"\n      }\n    },\n    {\n      \"column\": \"Brand\",\n      \"properties\": {\n        \"dtype\": \"string\",\n        \"num_unique_values\": 3,\n        \"samples\": [\n          \"Adidas\",\n          \"H&M\",\n          \"Zara\"\n        ],\n        \"semantic_type\": \"\",\n        \"description\": \"\"\n      }\n    },\n    {\n      \"column\": \"Category\",\n      \"properties\": {\n        \"dtype\": \"category\",\n        \"num_unique_values\": 2,\n        \"samples\": [\n          \"Women's Fashion\",\n          \"Men's Fashion\"\n        ],\n        \"semantic_type\": \"\",\n        \"description\": \"\"\n      }\n    },\n    {\n      \"column\": \"Price\",\n      \"properties\": {\n        \"dtype\": \"number\",\n        \"std\": 25,\n        \"min\": 23,\n        \"max\": 82,\n        \"num_unique_values\": 5,\n        \"samples\": [\n          82,\n          79\n        ],\n        \"semantic_type\": \"\",\n        \"description\": \"\"\n      }\n    },\n    {\n      \"column\": \"Rating\",\n      \"properties\": {\n        \"dtype\": \"number\",\n        \"std\": 1.5961612339894578,\n        \"min\": 1.0431592108361825,\n        \"max\": 4.302773408398684,\n        \"num_unique_values\": 5,\n        \"samples\": [\n          4.026416271141911,\n          4.302773408398684\n        ],\n        \"semantic_type\": \"\",\n        \"description\": \"\"\n      }\n    },\n    {\n      \"column\": \"Color\",\n      \"properties\": {\n        \"dtype\": \"string\",\n        \"num_unique_values\": 3,\n        \"samples\": [\n          \"Black\",\n          \"Yellow\"\n        ],\n        \"semantic_type\": \"\",\n        \"description\": \"\"\n      }\n    },\n    {\n      \"column\": \"Size\",\n      \"properties\": {\n        \"dtype\": \"string\",\n        \"num_unique_values\": 4,\n        \"samples\": [\n          \"L\",\n          \"M\"\n        ],\n        \"semantic_type\": \"\",\n        \"description\": \"\"\n      }\n    }\n  ]\n}"
            }
          },
          "metadata": {}
        }
      ]
    },
    {
      "cell_type": "markdown",
      "source": [
        "### **Step 2: Check Basic Information**\n",
        "\n",
        "Before proceeding, let's examine the dataset's structure:  \n",
        "- Column names  \n",
        "- Data types  \n",
        "- Number of missing values  \n",
        "- Number of duplicate rows"
      ],
      "metadata": {
        "id": "IHHQ9QtVMMT9"
      }
    },
    {
      "cell_type": "code",
      "source": [
        "# Display column names and data types\n",
        "df.info()\n",
        "\n",
        "# Check for missing values\n",
        "print(\"\\nMissing Values in Each Column:\")\n",
        "print(df.isnull().sum())\n",
        "\n",
        "# Check for duplicate rows\n",
        "print(\"\\nNumber of Duplicate Rows:\", df.duplicated().sum())"
      ],
      "metadata": {
        "id": "NAKtx4lfrpma",
        "colab": {
          "base_uri": "https://localhost:8080/"
        },
        "outputId": "c1fbc9d7-ea20-4a3f-95c1-de9eb0ab2d3f"
      },
      "execution_count": 5,
      "outputs": [
        {
          "output_type": "stream",
          "name": "stdout",
          "text": [
            "<class 'pandas.core.frame.DataFrame'>\n",
            "RangeIndex: 1000 entries, 0 to 999\n",
            "Data columns (total 9 columns):\n",
            " #   Column        Non-Null Count  Dtype  \n",
            "---  ------        --------------  -----  \n",
            " 0   User ID       1000 non-null   int64  \n",
            " 1   Product ID    1000 non-null   int64  \n",
            " 2   Product Name  1000 non-null   object \n",
            " 3   Brand         1000 non-null   object \n",
            " 4   Category      1000 non-null   object \n",
            " 5   Price         1000 non-null   int64  \n",
            " 6   Rating        1000 non-null   float64\n",
            " 7   Color         1000 non-null   object \n",
            " 8   Size          1000 non-null   object \n",
            "dtypes: float64(1), int64(3), object(5)\n",
            "memory usage: 70.4+ KB\n",
            "\n",
            "Missing Values in Each Column:\n",
            "User ID         0\n",
            "Product ID      0\n",
            "Product Name    0\n",
            "Brand           0\n",
            "Category        0\n",
            "Price           0\n",
            "Rating          0\n",
            "Color           0\n",
            "Size            0\n",
            "dtype: int64\n",
            "\n",
            "Number of Duplicate Rows: 0\n"
          ]
        }
      ]
    },
    {
      "cell_type": "markdown",
      "source": [
        "### **🔹Basic Statistics**\n",
        "\n",
        "We'll now generate summary statistics to understand numerical columns  \n",
        "(such as prices, ratings, etc.) and get insights into data distribution."
      ],
      "metadata": {
        "id": "7fPndSHlMcyM"
      }
    },
    {
      "cell_type": "code",
      "source": [
        "# Summary statistics of numerical columns\n",
        "df.describe()"
      ],
      "metadata": {
        "id": "48BaZmCLs7W2",
        "colab": {
          "base_uri": "https://localhost:8080/",
          "height": 300
        },
        "outputId": "2f1b3d0f-99fd-457c-fb1f-89f432853891"
      },
      "execution_count": 6,
      "outputs": [
        {
          "output_type": "execute_result",
          "data": {
            "text/plain": [
              "          User ID   Product ID        Price       Rating\n",
              "count  1000.00000  1000.000000  1000.000000  1000.000000\n",
              "mean     50.41900   500.500000    55.785000     2.993135\n",
              "std      28.78131   288.819436    26.291748     1.153185\n",
              "min       1.00000     1.000000    10.000000     1.000967\n",
              "25%      26.00000   250.750000    33.000000     1.992786\n",
              "50%      50.00000   500.500000    57.000000     2.984003\n",
              "75%      75.00000   750.250000    78.250000     3.985084\n",
              "max     100.00000  1000.000000   100.000000     4.987964"
            ],
            "text/html": [
              "\n",
              "  <div id=\"df-7227f192-5c3b-47ba-bd34-80c201040cb7\" class=\"colab-df-container\">\n",
              "    <div>\n",
              "<style scoped>\n",
              "    .dataframe tbody tr th:only-of-type {\n",
              "        vertical-align: middle;\n",
              "    }\n",
              "\n",
              "    .dataframe tbody tr th {\n",
              "        vertical-align: top;\n",
              "    }\n",
              "\n",
              "    .dataframe thead th {\n",
              "        text-align: right;\n",
              "    }\n",
              "</style>\n",
              "<table border=\"1\" class=\"dataframe\">\n",
              "  <thead>\n",
              "    <tr style=\"text-align: right;\">\n",
              "      <th></th>\n",
              "      <th>User ID</th>\n",
              "      <th>Product ID</th>\n",
              "      <th>Price</th>\n",
              "      <th>Rating</th>\n",
              "    </tr>\n",
              "  </thead>\n",
              "  <tbody>\n",
              "    <tr>\n",
              "      <th>count</th>\n",
              "      <td>1000.00000</td>\n",
              "      <td>1000.000000</td>\n",
              "      <td>1000.000000</td>\n",
              "      <td>1000.000000</td>\n",
              "    </tr>\n",
              "    <tr>\n",
              "      <th>mean</th>\n",
              "      <td>50.41900</td>\n",
              "      <td>500.500000</td>\n",
              "      <td>55.785000</td>\n",
              "      <td>2.993135</td>\n",
              "    </tr>\n",
              "    <tr>\n",
              "      <th>std</th>\n",
              "      <td>28.78131</td>\n",
              "      <td>288.819436</td>\n",
              "      <td>26.291748</td>\n",
              "      <td>1.153185</td>\n",
              "    </tr>\n",
              "    <tr>\n",
              "      <th>min</th>\n",
              "      <td>1.00000</td>\n",
              "      <td>1.000000</td>\n",
              "      <td>10.000000</td>\n",
              "      <td>1.000967</td>\n",
              "    </tr>\n",
              "    <tr>\n",
              "      <th>25%</th>\n",
              "      <td>26.00000</td>\n",
              "      <td>250.750000</td>\n",
              "      <td>33.000000</td>\n",
              "      <td>1.992786</td>\n",
              "    </tr>\n",
              "    <tr>\n",
              "      <th>50%</th>\n",
              "      <td>50.00000</td>\n",
              "      <td>500.500000</td>\n",
              "      <td>57.000000</td>\n",
              "      <td>2.984003</td>\n",
              "    </tr>\n",
              "    <tr>\n",
              "      <th>75%</th>\n",
              "      <td>75.00000</td>\n",
              "      <td>750.250000</td>\n",
              "      <td>78.250000</td>\n",
              "      <td>3.985084</td>\n",
              "    </tr>\n",
              "    <tr>\n",
              "      <th>max</th>\n",
              "      <td>100.00000</td>\n",
              "      <td>1000.000000</td>\n",
              "      <td>100.000000</td>\n",
              "      <td>4.987964</td>\n",
              "    </tr>\n",
              "  </tbody>\n",
              "</table>\n",
              "</div>\n",
              "    <div class=\"colab-df-buttons\">\n",
              "\n",
              "  <div class=\"colab-df-container\">\n",
              "    <button class=\"colab-df-convert\" onclick=\"convertToInteractive('df-7227f192-5c3b-47ba-bd34-80c201040cb7')\"\n",
              "            title=\"Convert this dataframe to an interactive table.\"\n",
              "            style=\"display:none;\">\n",
              "\n",
              "  <svg xmlns=\"http://www.w3.org/2000/svg\" height=\"24px\" viewBox=\"0 -960 960 960\">\n",
              "    <path d=\"M120-120v-720h720v720H120Zm60-500h600v-160H180v160Zm220 220h160v-160H400v160Zm0 220h160v-160H400v160ZM180-400h160v-160H180v160Zm440 0h160v-160H620v160ZM180-180h160v-160H180v160Zm440 0h160v-160H620v160Z\"/>\n",
              "  </svg>\n",
              "    </button>\n",
              "\n",
              "  <style>\n",
              "    .colab-df-container {\n",
              "      display:flex;\n",
              "      gap: 12px;\n",
              "    }\n",
              "\n",
              "    .colab-df-convert {\n",
              "      background-color: #E8F0FE;\n",
              "      border: none;\n",
              "      border-radius: 50%;\n",
              "      cursor: pointer;\n",
              "      display: none;\n",
              "      fill: #1967D2;\n",
              "      height: 32px;\n",
              "      padding: 0 0 0 0;\n",
              "      width: 32px;\n",
              "    }\n",
              "\n",
              "    .colab-df-convert:hover {\n",
              "      background-color: #E2EBFA;\n",
              "      box-shadow: 0px 1px 2px rgba(60, 64, 67, 0.3), 0px 1px 3px 1px rgba(60, 64, 67, 0.15);\n",
              "      fill: #174EA6;\n",
              "    }\n",
              "\n",
              "    .colab-df-buttons div {\n",
              "      margin-bottom: 4px;\n",
              "    }\n",
              "\n",
              "    [theme=dark] .colab-df-convert {\n",
              "      background-color: #3B4455;\n",
              "      fill: #D2E3FC;\n",
              "    }\n",
              "\n",
              "    [theme=dark] .colab-df-convert:hover {\n",
              "      background-color: #434B5C;\n",
              "      box-shadow: 0px 1px 3px 1px rgba(0, 0, 0, 0.15);\n",
              "      filter: drop-shadow(0px 1px 2px rgba(0, 0, 0, 0.3));\n",
              "      fill: #FFFFFF;\n",
              "    }\n",
              "  </style>\n",
              "\n",
              "    <script>\n",
              "      const buttonEl =\n",
              "        document.querySelector('#df-7227f192-5c3b-47ba-bd34-80c201040cb7 button.colab-df-convert');\n",
              "      buttonEl.style.display =\n",
              "        google.colab.kernel.accessAllowed ? 'block' : 'none';\n",
              "\n",
              "      async function convertToInteractive(key) {\n",
              "        const element = document.querySelector('#df-7227f192-5c3b-47ba-bd34-80c201040cb7');\n",
              "        const dataTable =\n",
              "          await google.colab.kernel.invokeFunction('convertToInteractive',\n",
              "                                                    [key], {});\n",
              "        if (!dataTable) return;\n",
              "\n",
              "        const docLinkHtml = 'Like what you see? Visit the ' +\n",
              "          '<a target=\"_blank\" href=https://colab.research.google.com/notebooks/data_table.ipynb>data table notebook</a>'\n",
              "          + ' to learn more about interactive tables.';\n",
              "        element.innerHTML = '';\n",
              "        dataTable['output_type'] = 'display_data';\n",
              "        await google.colab.output.renderOutput(dataTable, element);\n",
              "        const docLink = document.createElement('div');\n",
              "        docLink.innerHTML = docLinkHtml;\n",
              "        element.appendChild(docLink);\n",
              "      }\n",
              "    </script>\n",
              "  </div>\n",
              "\n",
              "\n",
              "<div id=\"df-de34e5ff-7838-404f-91d1-d625364c9cc7\">\n",
              "  <button class=\"colab-df-quickchart\" onclick=\"quickchart('df-de34e5ff-7838-404f-91d1-d625364c9cc7')\"\n",
              "            title=\"Suggest charts\"\n",
              "            style=\"display:none;\">\n",
              "\n",
              "<svg xmlns=\"http://www.w3.org/2000/svg\" height=\"24px\"viewBox=\"0 0 24 24\"\n",
              "     width=\"24px\">\n",
              "    <g>\n",
              "        <path d=\"M19 3H5c-1.1 0-2 .9-2 2v14c0 1.1.9 2 2 2h14c1.1 0 2-.9 2-2V5c0-1.1-.9-2-2-2zM9 17H7v-7h2v7zm4 0h-2V7h2v10zm4 0h-2v-4h2v4z\"/>\n",
              "    </g>\n",
              "</svg>\n",
              "  </button>\n",
              "\n",
              "<style>\n",
              "  .colab-df-quickchart {\n",
              "      --bg-color: #E8F0FE;\n",
              "      --fill-color: #1967D2;\n",
              "      --hover-bg-color: #E2EBFA;\n",
              "      --hover-fill-color: #174EA6;\n",
              "      --disabled-fill-color: #AAA;\n",
              "      --disabled-bg-color: #DDD;\n",
              "  }\n",
              "\n",
              "  [theme=dark] .colab-df-quickchart {\n",
              "      --bg-color: #3B4455;\n",
              "      --fill-color: #D2E3FC;\n",
              "      --hover-bg-color: #434B5C;\n",
              "      --hover-fill-color: #FFFFFF;\n",
              "      --disabled-bg-color: #3B4455;\n",
              "      --disabled-fill-color: #666;\n",
              "  }\n",
              "\n",
              "  .colab-df-quickchart {\n",
              "    background-color: var(--bg-color);\n",
              "    border: none;\n",
              "    border-radius: 50%;\n",
              "    cursor: pointer;\n",
              "    display: none;\n",
              "    fill: var(--fill-color);\n",
              "    height: 32px;\n",
              "    padding: 0;\n",
              "    width: 32px;\n",
              "  }\n",
              "\n",
              "  .colab-df-quickchart:hover {\n",
              "    background-color: var(--hover-bg-color);\n",
              "    box-shadow: 0 1px 2px rgba(60, 64, 67, 0.3), 0 1px 3px 1px rgba(60, 64, 67, 0.15);\n",
              "    fill: var(--button-hover-fill-color);\n",
              "  }\n",
              "\n",
              "  .colab-df-quickchart-complete:disabled,\n",
              "  .colab-df-quickchart-complete:disabled:hover {\n",
              "    background-color: var(--disabled-bg-color);\n",
              "    fill: var(--disabled-fill-color);\n",
              "    box-shadow: none;\n",
              "  }\n",
              "\n",
              "  .colab-df-spinner {\n",
              "    border: 2px solid var(--fill-color);\n",
              "    border-color: transparent;\n",
              "    border-bottom-color: var(--fill-color);\n",
              "    animation:\n",
              "      spin 1s steps(1) infinite;\n",
              "  }\n",
              "\n",
              "  @keyframes spin {\n",
              "    0% {\n",
              "      border-color: transparent;\n",
              "      border-bottom-color: var(--fill-color);\n",
              "      border-left-color: var(--fill-color);\n",
              "    }\n",
              "    20% {\n",
              "      border-color: transparent;\n",
              "      border-left-color: var(--fill-color);\n",
              "      border-top-color: var(--fill-color);\n",
              "    }\n",
              "    30% {\n",
              "      border-color: transparent;\n",
              "      border-left-color: var(--fill-color);\n",
              "      border-top-color: var(--fill-color);\n",
              "      border-right-color: var(--fill-color);\n",
              "    }\n",
              "    40% {\n",
              "      border-color: transparent;\n",
              "      border-right-color: var(--fill-color);\n",
              "      border-top-color: var(--fill-color);\n",
              "    }\n",
              "    60% {\n",
              "      border-color: transparent;\n",
              "      border-right-color: var(--fill-color);\n",
              "    }\n",
              "    80% {\n",
              "      border-color: transparent;\n",
              "      border-right-color: var(--fill-color);\n",
              "      border-bottom-color: var(--fill-color);\n",
              "    }\n",
              "    90% {\n",
              "      border-color: transparent;\n",
              "      border-bottom-color: var(--fill-color);\n",
              "    }\n",
              "  }\n",
              "</style>\n",
              "\n",
              "  <script>\n",
              "    async function quickchart(key) {\n",
              "      const quickchartButtonEl =\n",
              "        document.querySelector('#' + key + ' button');\n",
              "      quickchartButtonEl.disabled = true;  // To prevent multiple clicks.\n",
              "      quickchartButtonEl.classList.add('colab-df-spinner');\n",
              "      try {\n",
              "        const charts = await google.colab.kernel.invokeFunction(\n",
              "            'suggestCharts', [key], {});\n",
              "      } catch (error) {\n",
              "        console.error('Error during call to suggestCharts:', error);\n",
              "      }\n",
              "      quickchartButtonEl.classList.remove('colab-df-spinner');\n",
              "      quickchartButtonEl.classList.add('colab-df-quickchart-complete');\n",
              "    }\n",
              "    (() => {\n",
              "      let quickchartButtonEl =\n",
              "        document.querySelector('#df-de34e5ff-7838-404f-91d1-d625364c9cc7 button');\n",
              "      quickchartButtonEl.style.display =\n",
              "        google.colab.kernel.accessAllowed ? 'block' : 'none';\n",
              "    })();\n",
              "  </script>\n",
              "</div>\n",
              "\n",
              "    </div>\n",
              "  </div>\n"
            ],
            "application/vnd.google.colaboratory.intrinsic+json": {
              "type": "dataframe",
              "summary": "{\n  \"name\": \"df\",\n  \"rows\": 8,\n  \"fields\": [\n    {\n      \"column\": \"User ID\",\n      \"properties\": {\n        \"dtype\": \"number\",\n        \"std\": 338.20126218618947,\n        \"min\": 1.0,\n        \"max\": 1000.0,\n        \"num_unique_values\": 8,\n        \"samples\": [\n          50.419,\n          50.0,\n          1000.0\n        ],\n        \"semantic_type\": \"\",\n        \"description\": \"\"\n      }\n    },\n    {\n      \"column\": \"Product ID\",\n      \"properties\": {\n        \"dtype\": \"number\",\n        \"std\": 360.1000917722167,\n        \"min\": 1.0,\n        \"max\": 1000.0,\n        \"num_unique_values\": 6,\n        \"samples\": [\n          1000.0,\n          500.5,\n          750.25\n        ],\n        \"semantic_type\": \"\",\n        \"description\": \"\"\n      }\n    },\n    {\n      \"column\": \"Price\",\n      \"properties\": {\n        \"dtype\": \"number\",\n        \"std\": 336.5907173351229,\n        \"min\": 10.0,\n        \"max\": 1000.0,\n        \"num_unique_values\": 8,\n        \"samples\": [\n          55.785,\n          57.0,\n          1000.0\n        ],\n        \"semantic_type\": \"\",\n        \"description\": \"\"\n      }\n    },\n    {\n      \"column\": \"Rating\",\n      \"properties\": {\n        \"dtype\": \"number\",\n        \"std\": 352.5914385671099,\n        \"min\": 1.000967235428064,\n        \"max\": 1000.0,\n        \"num_unique_values\": 8,\n        \"samples\": [\n          2.9931351057620845,\n          2.984002878443823,\n          1000.0\n        ],\n        \"semantic_type\": \"\",\n        \"description\": \"\"\n      }\n    }\n  ]\n}"
            }
          },
          "metadata": {},
          "execution_count": 6
        }
      ]
    },
    {
      "cell_type": "markdown",
      "source": [
        "### **Step 3: Data Cleaning & Preprocessing**"
      ],
      "metadata": {
        "id": "9sQWPsldgNbl"
      }
    },
    {
      "cell_type": "markdown",
      "source": [
        "#### **🔹Standardizing Column Names**\n",
        "\n",
        "Column names should be consistent to avoid errors in processing.  \n",
        "We'll convert them to lowercase and replace spaces with underscores."
      ],
      "metadata": {
        "id": "NWkVsUVhO_P_"
      }
    },
    {
      "cell_type": "code",
      "source": [
        "# Standardize column names\n",
        "df.columns = df.columns.str.lower().str.replace(\" \", \"_\")\n",
        "\n",
        "# Display updated column names\n",
        "print(\"Updated Column Names:\", df.columns)"
      ],
      "metadata": {
        "id": "HuaIhdVyPBSH",
        "colab": {
          "base_uri": "https://localhost:8080/"
        },
        "outputId": "3be7ba45-bb28-41dd-ee7a-5cca3562093f"
      },
      "execution_count": 7,
      "outputs": [
        {
          "output_type": "stream",
          "name": "stdout",
          "text": [
            "Updated Column Names: Index(['user_id', 'product_id', 'product_name', 'brand', 'category', 'price',\n",
            "       'rating', 'color', 'size'],\n",
            "      dtype='object')\n"
          ]
        }
      ]
    },
    {
      "cell_type": "markdown",
      "source": [
        "### **🔹Checking for Inconsistent Data**\n",
        "\n",
        "We'll now check for incorrect values, such as:  \n",
        "- Negative prices (if applicable)  \n",
        "- Unusual ratings (e.g., greater than 5 if the scale is 1-5)  \n",
        "- Incorrect category names (e.g., typos)\n"
      ],
      "metadata": {
        "id": "tEXaL5wkNkiF"
      }
    },
    {
      "cell_type": "code",
      "source": [
        "# Check for negative or zero prices (if applicable)\n",
        "if \"price\" in df.columns:\n",
        "    print(\"Negative or Zero Price Count:\", (df[\"price\"] <= 0).sum())\n",
        "\n",
        "    # Remove invalid price values if any\n",
        "    df = df[df[\"price\"] > 0]\n",
        "\n",
        "# Check for ratings out of expected range (1-5)\n",
        "if \"rating\" in df.columns:\n",
        "    print(\"Ratings out of Range:\", df[(df[\"rating\"] < 1) | (df[\"rating\"] > 5)].shape[0])\n",
        "\n",
        "    # Filter out incorrect ratings (assuming scale of 1-5)\n",
        "    df = df[(df[\"rating\"] >= 1) & (df[\"rating\"] <= 5)]\n",
        "    print(df)\n",
        "    print(len(df))"
      ],
      "metadata": {
        "id": "SODR_Zu5N8sB",
        "colab": {
          "base_uri": "https://localhost:8080/"
        },
        "outputId": "24ff766d-31ef-4591-aa0d-e52756050094"
      },
      "execution_count": 8,
      "outputs": [
        {
          "output_type": "stream",
          "name": "stdout",
          "text": [
            "Negative or Zero Price Count: 0\n",
            "Ratings out of Range: 0\n",
            "     user_id  product_id product_name   brand         category  price  \\\n",
            "0         19           1        Dress  Adidas    Men's Fashion     40   \n",
            "1         97           2        Shoes     H&M  Women's Fashion     82   \n",
            "2         25           3        Dress  Adidas  Women's Fashion     44   \n",
            "3         57           4        Shoes    Zara    Men's Fashion     23   \n",
            "4         79           5      T-shirt  Adidas    Men's Fashion     79   \n",
            "..       ...         ...          ...     ...              ...    ...   \n",
            "995       20         996        Shoes    Zara  Women's Fashion     55   \n",
            "996       42         997      Sweater    Nike    Kids' Fashion     13   \n",
            "997        9         998      Sweater    Zara    Men's Fashion     47   \n",
            "998        8         999      T-shirt    Zara  Women's Fashion     68   \n",
            "999       91        1000        Shoes  Adidas  Women's Fashion     79   \n",
            "\n",
            "       rating   color size  \n",
            "0    1.043159   Black   XL  \n",
            "1    4.026416   Black    L  \n",
            "2    3.337938  Yellow   XL  \n",
            "3    1.049523   White    S  \n",
            "4    4.302773   Black    M  \n",
            "..        ...     ...  ...  \n",
            "995  1.620081   Black    M  \n",
            "996  1.544464   Green    L  \n",
            "997  3.961913   White    L  \n",
            "998  3.089722    Blue    S  \n",
            "999  3.093553   White    L  \n",
            "\n",
            "[1000 rows x 9 columns]\n",
            "1000\n"
          ]
        }
      ]
    },
    {
      "cell_type": "markdown",
      "source": [
        "### **🔹Scaling Data**"
      ],
      "metadata": {
        "id": "pH3AgR_wmq02"
      }
    },
    {
      "cell_type": "code",
      "source": [
        "from sklearn.preprocessing import MinMaxScaler\n",
        "\n",
        "# Initialize the scaler\n",
        "scaler = MinMaxScaler()\n",
        "\n",
        "# Select numerical features for scaling\n",
        "numerical_features = ['price', 'rating']\n",
        "\n",
        "# Apply scaling\n",
        "df[numerical_features] = scaler.fit_transform(df[numerical_features])\n",
        "\n",
        "# Check results\n",
        "print(df.head())"
      ],
      "metadata": {
        "id": "pBpBkZR9mru7",
        "colab": {
          "base_uri": "https://localhost:8080/"
        },
        "outputId": "66382673-976e-4ed2-baa0-12953742e1e8"
      },
      "execution_count": 9,
      "outputs": [
        {
          "output_type": "stream",
          "name": "stdout",
          "text": [
            "   user_id  product_id product_name   brand         category     price  \\\n",
            "0       19           1        Dress  Adidas    Men's Fashion  0.333333   \n",
            "1       97           2        Shoes     H&M  Women's Fashion  0.800000   \n",
            "2       25           3        Dress  Adidas  Women's Fashion  0.377778   \n",
            "3       57           4        Shoes    Zara    Men's Fashion  0.144444   \n",
            "4       79           5      T-shirt  Adidas    Men's Fashion  0.766667   \n",
            "\n",
            "     rating   color size  \n",
            "0  0.010582   Black   XL  \n",
            "1  0.758829   Black    L  \n",
            "2  0.586148  Yellow   XL  \n",
            "3  0.012179   White    S  \n",
            "4  0.828144   Black    M  \n"
          ]
        }
      ]
    },
    {
      "cell_type": "markdown",
      "source": [
        "## **📌 Phase 2: Exploratory Data Analysis (EDA)**"
      ],
      "metadata": {
        "id": "-xEsEyLoPXoA"
      }
    },
    {
      "cell_type": "markdown",
      "source": [
        "### **Step 1: Dataset Overview**\n",
        "\n",
        "Before diving into specific analyses, we will check:  \n",
        "- The total number of records  \n",
        "- Unique values in key columns (e.g., products, categories, brands)  \n",
        "- Basic summary statistics"
      ],
      "metadata": {
        "id": "RnWSq3wRPdpL"
      }
    },
    {
      "cell_type": "code",
      "source": [
        "# Check total records\n",
        "print(f\"Total records: {df.shape[0]}\")\n",
        "\n",
        "# Check number of unique products, categories, and brands (if applicable)\n",
        "if \"product_id\" in df.columns:\n",
        "    print(f\"Unique products: {df['product_id'].nunique()}\")\n",
        "\n",
        "if \"category\" in df.columns:\n",
        "    print(f\"Unique categories: {df['category'].nunique()}\")\n",
        "    print(\"Categories:\", df[\"category\"].unique())\n",
        "\n",
        "if \"brand\" in df.columns:\n",
        "    print(f\"Unique brands: {df['brand'].nunique()}\")\n",
        "    print(\"Brands:\", df[\"brand\"].unique())\n",
        "\n",
        "# Display summary statistics\n",
        "df.describe()"
      ],
      "metadata": {
        "id": "9Sf9mq1pPkyc",
        "colab": {
          "base_uri": "https://localhost:8080/",
          "height": 404
        },
        "outputId": "c5274e49-71e6-4ac7-b1b9-80b8d4059a08"
      },
      "execution_count": 10,
      "outputs": [
        {
          "output_type": "stream",
          "name": "stdout",
          "text": [
            "Total records: 1000\n",
            "Unique products: 1000\n",
            "Unique categories: 3\n",
            "Categories: [\"Men's Fashion\" \"Women's Fashion\" \"Kids' Fashion\"]\n",
            "Unique brands: 5\n",
            "Brands: ['Adidas' 'H&M' 'Zara' 'Gucci' 'Nike']\n"
          ]
        },
        {
          "output_type": "execute_result",
          "data": {
            "text/plain": [
              "          user_id   product_id        price       rating\n",
              "count  1000.00000  1000.000000  1000.000000  1000.000000\n",
              "mean     50.41900   500.500000     0.508722     0.499666\n",
              "std      28.78131   288.819436     0.292131     0.289237\n",
              "min       1.00000     1.000000     0.000000     0.000000\n",
              "25%      26.00000   250.750000     0.255556     0.248763\n",
              "50%      50.00000   500.500000     0.522222     0.497376\n",
              "75%      75.00000   750.250000     0.758333     0.748462\n",
              "max     100.00000  1000.000000     1.000000     1.000000"
            ],
            "text/html": [
              "\n",
              "  <div id=\"df-e576c459-ad72-454c-b6c2-b75ae38fd4ec\" class=\"colab-df-container\">\n",
              "    <div>\n",
              "<style scoped>\n",
              "    .dataframe tbody tr th:only-of-type {\n",
              "        vertical-align: middle;\n",
              "    }\n",
              "\n",
              "    .dataframe tbody tr th {\n",
              "        vertical-align: top;\n",
              "    }\n",
              "\n",
              "    .dataframe thead th {\n",
              "        text-align: right;\n",
              "    }\n",
              "</style>\n",
              "<table border=\"1\" class=\"dataframe\">\n",
              "  <thead>\n",
              "    <tr style=\"text-align: right;\">\n",
              "      <th></th>\n",
              "      <th>user_id</th>\n",
              "      <th>product_id</th>\n",
              "      <th>price</th>\n",
              "      <th>rating</th>\n",
              "    </tr>\n",
              "  </thead>\n",
              "  <tbody>\n",
              "    <tr>\n",
              "      <th>count</th>\n",
              "      <td>1000.00000</td>\n",
              "      <td>1000.000000</td>\n",
              "      <td>1000.000000</td>\n",
              "      <td>1000.000000</td>\n",
              "    </tr>\n",
              "    <tr>\n",
              "      <th>mean</th>\n",
              "      <td>50.41900</td>\n",
              "      <td>500.500000</td>\n",
              "      <td>0.508722</td>\n",
              "      <td>0.499666</td>\n",
              "    </tr>\n",
              "    <tr>\n",
              "      <th>std</th>\n",
              "      <td>28.78131</td>\n",
              "      <td>288.819436</td>\n",
              "      <td>0.292131</td>\n",
              "      <td>0.289237</td>\n",
              "    </tr>\n",
              "    <tr>\n",
              "      <th>min</th>\n",
              "      <td>1.00000</td>\n",
              "      <td>1.000000</td>\n",
              "      <td>0.000000</td>\n",
              "      <td>0.000000</td>\n",
              "    </tr>\n",
              "    <tr>\n",
              "      <th>25%</th>\n",
              "      <td>26.00000</td>\n",
              "      <td>250.750000</td>\n",
              "      <td>0.255556</td>\n",
              "      <td>0.248763</td>\n",
              "    </tr>\n",
              "    <tr>\n",
              "      <th>50%</th>\n",
              "      <td>50.00000</td>\n",
              "      <td>500.500000</td>\n",
              "      <td>0.522222</td>\n",
              "      <td>0.497376</td>\n",
              "    </tr>\n",
              "    <tr>\n",
              "      <th>75%</th>\n",
              "      <td>75.00000</td>\n",
              "      <td>750.250000</td>\n",
              "      <td>0.758333</td>\n",
              "      <td>0.748462</td>\n",
              "    </tr>\n",
              "    <tr>\n",
              "      <th>max</th>\n",
              "      <td>100.00000</td>\n",
              "      <td>1000.000000</td>\n",
              "      <td>1.000000</td>\n",
              "      <td>1.000000</td>\n",
              "    </tr>\n",
              "  </tbody>\n",
              "</table>\n",
              "</div>\n",
              "    <div class=\"colab-df-buttons\">\n",
              "\n",
              "  <div class=\"colab-df-container\">\n",
              "    <button class=\"colab-df-convert\" onclick=\"convertToInteractive('df-e576c459-ad72-454c-b6c2-b75ae38fd4ec')\"\n",
              "            title=\"Convert this dataframe to an interactive table.\"\n",
              "            style=\"display:none;\">\n",
              "\n",
              "  <svg xmlns=\"http://www.w3.org/2000/svg\" height=\"24px\" viewBox=\"0 -960 960 960\">\n",
              "    <path d=\"M120-120v-720h720v720H120Zm60-500h600v-160H180v160Zm220 220h160v-160H400v160Zm0 220h160v-160H400v160ZM180-400h160v-160H180v160Zm440 0h160v-160H620v160ZM180-180h160v-160H180v160Zm440 0h160v-160H620v160Z\"/>\n",
              "  </svg>\n",
              "    </button>\n",
              "\n",
              "  <style>\n",
              "    .colab-df-container {\n",
              "      display:flex;\n",
              "      gap: 12px;\n",
              "    }\n",
              "\n",
              "    .colab-df-convert {\n",
              "      background-color: #E8F0FE;\n",
              "      border: none;\n",
              "      border-radius: 50%;\n",
              "      cursor: pointer;\n",
              "      display: none;\n",
              "      fill: #1967D2;\n",
              "      height: 32px;\n",
              "      padding: 0 0 0 0;\n",
              "      width: 32px;\n",
              "    }\n",
              "\n",
              "    .colab-df-convert:hover {\n",
              "      background-color: #E2EBFA;\n",
              "      box-shadow: 0px 1px 2px rgba(60, 64, 67, 0.3), 0px 1px 3px 1px rgba(60, 64, 67, 0.15);\n",
              "      fill: #174EA6;\n",
              "    }\n",
              "\n",
              "    .colab-df-buttons div {\n",
              "      margin-bottom: 4px;\n",
              "    }\n",
              "\n",
              "    [theme=dark] .colab-df-convert {\n",
              "      background-color: #3B4455;\n",
              "      fill: #D2E3FC;\n",
              "    }\n",
              "\n",
              "    [theme=dark] .colab-df-convert:hover {\n",
              "      background-color: #434B5C;\n",
              "      box-shadow: 0px 1px 3px 1px rgba(0, 0, 0, 0.15);\n",
              "      filter: drop-shadow(0px 1px 2px rgba(0, 0, 0, 0.3));\n",
              "      fill: #FFFFFF;\n",
              "    }\n",
              "  </style>\n",
              "\n",
              "    <script>\n",
              "      const buttonEl =\n",
              "        document.querySelector('#df-e576c459-ad72-454c-b6c2-b75ae38fd4ec button.colab-df-convert');\n",
              "      buttonEl.style.display =\n",
              "        google.colab.kernel.accessAllowed ? 'block' : 'none';\n",
              "\n",
              "      async function convertToInteractive(key) {\n",
              "        const element = document.querySelector('#df-e576c459-ad72-454c-b6c2-b75ae38fd4ec');\n",
              "        const dataTable =\n",
              "          await google.colab.kernel.invokeFunction('convertToInteractive',\n",
              "                                                    [key], {});\n",
              "        if (!dataTable) return;\n",
              "\n",
              "        const docLinkHtml = 'Like what you see? Visit the ' +\n",
              "          '<a target=\"_blank\" href=https://colab.research.google.com/notebooks/data_table.ipynb>data table notebook</a>'\n",
              "          + ' to learn more about interactive tables.';\n",
              "        element.innerHTML = '';\n",
              "        dataTable['output_type'] = 'display_data';\n",
              "        await google.colab.output.renderOutput(dataTable, element);\n",
              "        const docLink = document.createElement('div');\n",
              "        docLink.innerHTML = docLinkHtml;\n",
              "        element.appendChild(docLink);\n",
              "      }\n",
              "    </script>\n",
              "  </div>\n",
              "\n",
              "\n",
              "<div id=\"df-9e4dfe4d-3138-4672-bc37-2df1c7152952\">\n",
              "  <button class=\"colab-df-quickchart\" onclick=\"quickchart('df-9e4dfe4d-3138-4672-bc37-2df1c7152952')\"\n",
              "            title=\"Suggest charts\"\n",
              "            style=\"display:none;\">\n",
              "\n",
              "<svg xmlns=\"http://www.w3.org/2000/svg\" height=\"24px\"viewBox=\"0 0 24 24\"\n",
              "     width=\"24px\">\n",
              "    <g>\n",
              "        <path d=\"M19 3H5c-1.1 0-2 .9-2 2v14c0 1.1.9 2 2 2h14c1.1 0 2-.9 2-2V5c0-1.1-.9-2-2-2zM9 17H7v-7h2v7zm4 0h-2V7h2v10zm4 0h-2v-4h2v4z\"/>\n",
              "    </g>\n",
              "</svg>\n",
              "  </button>\n",
              "\n",
              "<style>\n",
              "  .colab-df-quickchart {\n",
              "      --bg-color: #E8F0FE;\n",
              "      --fill-color: #1967D2;\n",
              "      --hover-bg-color: #E2EBFA;\n",
              "      --hover-fill-color: #174EA6;\n",
              "      --disabled-fill-color: #AAA;\n",
              "      --disabled-bg-color: #DDD;\n",
              "  }\n",
              "\n",
              "  [theme=dark] .colab-df-quickchart {\n",
              "      --bg-color: #3B4455;\n",
              "      --fill-color: #D2E3FC;\n",
              "      --hover-bg-color: #434B5C;\n",
              "      --hover-fill-color: #FFFFFF;\n",
              "      --disabled-bg-color: #3B4455;\n",
              "      --disabled-fill-color: #666;\n",
              "  }\n",
              "\n",
              "  .colab-df-quickchart {\n",
              "    background-color: var(--bg-color);\n",
              "    border: none;\n",
              "    border-radius: 50%;\n",
              "    cursor: pointer;\n",
              "    display: none;\n",
              "    fill: var(--fill-color);\n",
              "    height: 32px;\n",
              "    padding: 0;\n",
              "    width: 32px;\n",
              "  }\n",
              "\n",
              "  .colab-df-quickchart:hover {\n",
              "    background-color: var(--hover-bg-color);\n",
              "    box-shadow: 0 1px 2px rgba(60, 64, 67, 0.3), 0 1px 3px 1px rgba(60, 64, 67, 0.15);\n",
              "    fill: var(--button-hover-fill-color);\n",
              "  }\n",
              "\n",
              "  .colab-df-quickchart-complete:disabled,\n",
              "  .colab-df-quickchart-complete:disabled:hover {\n",
              "    background-color: var(--disabled-bg-color);\n",
              "    fill: var(--disabled-fill-color);\n",
              "    box-shadow: none;\n",
              "  }\n",
              "\n",
              "  .colab-df-spinner {\n",
              "    border: 2px solid var(--fill-color);\n",
              "    border-color: transparent;\n",
              "    border-bottom-color: var(--fill-color);\n",
              "    animation:\n",
              "      spin 1s steps(1) infinite;\n",
              "  }\n",
              "\n",
              "  @keyframes spin {\n",
              "    0% {\n",
              "      border-color: transparent;\n",
              "      border-bottom-color: var(--fill-color);\n",
              "      border-left-color: var(--fill-color);\n",
              "    }\n",
              "    20% {\n",
              "      border-color: transparent;\n",
              "      border-left-color: var(--fill-color);\n",
              "      border-top-color: var(--fill-color);\n",
              "    }\n",
              "    30% {\n",
              "      border-color: transparent;\n",
              "      border-left-color: var(--fill-color);\n",
              "      border-top-color: var(--fill-color);\n",
              "      border-right-color: var(--fill-color);\n",
              "    }\n",
              "    40% {\n",
              "      border-color: transparent;\n",
              "      border-right-color: var(--fill-color);\n",
              "      border-top-color: var(--fill-color);\n",
              "    }\n",
              "    60% {\n",
              "      border-color: transparent;\n",
              "      border-right-color: var(--fill-color);\n",
              "    }\n",
              "    80% {\n",
              "      border-color: transparent;\n",
              "      border-right-color: var(--fill-color);\n",
              "      border-bottom-color: var(--fill-color);\n",
              "    }\n",
              "    90% {\n",
              "      border-color: transparent;\n",
              "      border-bottom-color: var(--fill-color);\n",
              "    }\n",
              "  }\n",
              "</style>\n",
              "\n",
              "  <script>\n",
              "    async function quickchart(key) {\n",
              "      const quickchartButtonEl =\n",
              "        document.querySelector('#' + key + ' button');\n",
              "      quickchartButtonEl.disabled = true;  // To prevent multiple clicks.\n",
              "      quickchartButtonEl.classList.add('colab-df-spinner');\n",
              "      try {\n",
              "        const charts = await google.colab.kernel.invokeFunction(\n",
              "            'suggestCharts', [key], {});\n",
              "      } catch (error) {\n",
              "        console.error('Error during call to suggestCharts:', error);\n",
              "      }\n",
              "      quickchartButtonEl.classList.remove('colab-df-spinner');\n",
              "      quickchartButtonEl.classList.add('colab-df-quickchart-complete');\n",
              "    }\n",
              "    (() => {\n",
              "      let quickchartButtonEl =\n",
              "        document.querySelector('#df-9e4dfe4d-3138-4672-bc37-2df1c7152952 button');\n",
              "      quickchartButtonEl.style.display =\n",
              "        google.colab.kernel.accessAllowed ? 'block' : 'none';\n",
              "    })();\n",
              "  </script>\n",
              "</div>\n",
              "\n",
              "    </div>\n",
              "  </div>\n"
            ],
            "application/vnd.google.colaboratory.intrinsic+json": {
              "type": "dataframe",
              "summary": "{\n  \"name\": \"df\",\n  \"rows\": 8,\n  \"fields\": [\n    {\n      \"column\": \"user_id\",\n      \"properties\": {\n        \"dtype\": \"number\",\n        \"std\": 338.20126218618947,\n        \"min\": 1.0,\n        \"max\": 1000.0,\n        \"num_unique_values\": 8,\n        \"samples\": [\n          50.419,\n          50.0,\n          1000.0\n        ],\n        \"semantic_type\": \"\",\n        \"description\": \"\"\n      }\n    },\n    {\n      \"column\": \"product_id\",\n      \"properties\": {\n        \"dtype\": \"number\",\n        \"std\": 360.1000917722167,\n        \"min\": 1.0,\n        \"max\": 1000.0,\n        \"num_unique_values\": 6,\n        \"samples\": [\n          1000.0,\n          500.5,\n          750.25\n        ],\n        \"semantic_type\": \"\",\n        \"description\": \"\"\n      }\n    },\n    {\n      \"column\": \"price\",\n      \"properties\": {\n        \"dtype\": \"number\",\n        \"std\": 353.384983177812,\n        \"min\": 0.0,\n        \"max\": 1000.0,\n        \"num_unique_values\": 8,\n        \"samples\": [\n          0.5087222222222222,\n          0.5222222222222221,\n          1000.0\n        ],\n        \"semantic_type\": \"\",\n        \"description\": \"\"\n      }\n    },\n    {\n      \"column\": \"rating\",\n      \"properties\": {\n        \"dtype\": \"number\",\n        \"std\": 353.38768250581387,\n        \"min\": 0.0,\n        \"max\": 1000.0,\n        \"num_unique_values\": 8,\n        \"samples\": [\n          0.4996662469500684,\n          0.4973757443180558,\n          1000.0\n        ],\n        \"semantic_type\": \"\",\n        \"description\": \"\"\n      }\n    }\n  ]\n}"
            }
          },
          "metadata": {},
          "execution_count": 10
        }
      ]
    },
    {
      "cell_type": "markdown",
      "source": [
        "### **Step 2: Price Distribution**\n",
        "\n",
        "Understanding the price distribution helps identify:  \n",
        "- The average price range  \n",
        "- The presence of outliers (extremely high or low prices)  \n",
        "- Whether prices follow a normal distribution  \n",
        "We will visualize this using histograms and boxplots."
      ],
      "metadata": {
        "id": "fqkwVBBIQAXt"
      }
    },
    {
      "cell_type": "code",
      "source": [
        "import matplotlib.pyplot as plt\n",
        "import seaborn as sns\n",
        "\n",
        "# Check if price column exists\n",
        "if \"price\" in df.columns:\n",
        "    plt.figure(figsize=(10,5))\n",
        "\n",
        "    # Histogram\n",
        "    sns.histplot(df[\"price\"], bins=50, kde=True)\n",
        "    plt.title(\"Price Distribution\")\n",
        "    plt.xlabel(\"Price\")\n",
        "    plt.ylabel(\"Frequency\")\n",
        "    plt.show()\n",
        "\n",
        "    # Boxplot to detect outliers\n",
        "    plt.figure(figsize=(10,5))\n",
        "    sns.boxplot(x=df[\"price\"])\n",
        "    plt.title(\"Price Boxplot\")\n",
        "    plt.show()"
      ],
      "metadata": {
        "id": "J5tQPwlMQCYx",
        "colab": {
          "base_uri": "https://localhost:8080/",
          "height": 957
        },
        "outputId": "d7fc53c8-1d87-4880-b171-a24d2e2d39c9"
      },
      "execution_count": 11,
      "outputs": [
        {
          "output_type": "display_data",
          "data": {
            "text/plain": [
              "<Figure size 1000x500 with 1 Axes>"
            ],
            "image/png": "[encoded data removed]"
          },
          "metadata": {}
        },
        {
          "output_type": "display_data",
          "data": {
            "text/plain": [
              "<Figure size 1000x500 with 1 Axes>"
            ],
            "image/png": "[encoded data removed]"
          },
          "metadata": {}
        }
      ]
    },
    {
      "cell_type": "markdown",
      "source": [
        "### ***Price Distribution Analysis***🛍️\n",
        "\n",
        "📊 **Histogram Insights:**\n",
        "\n",
        "Prices are spread out fairly evenly, meaning there is no single price range that dominates.\n",
        "\n",
        "Most prices seem to be balanced without extreme highs or lows.\n",
        "\n",
        "📉 **Boxplot Insights:**\n",
        "\n",
        "The median (middle price) is centered, suggesting no strong bias towards cheap or expensive products.\n",
        "\n",
        "There are no extreme outliers, meaning pricing is fairly consistent.\n",
        "\n",
        "👉 **Conclusion:** The price distribution looks well-balanced, with no major issues like extreme price variations. This means the dataset is clean and doesn’t need much adjustment before analysis."
      ],
      "metadata": {
        "id": "yrnEL5cBgp9N"
      }
    },
    {
      "cell_type": "markdown",
      "source": [
        "### **Step 3: Rating Distribution**\n",
        "\n",
        "Ratings indicate user preferences and satisfaction.  \n",
        "We will check the distribution to identify:  \n",
        "- The most common ratings  \n",
        "- Any missing or unusual values  \n",
        "- Whether users tend to give higher or lower ratings"
      ],
      "metadata": {
        "id": "i1mE4gsmQQ-o"
      }
    },
    {
      "cell_type": "code",
      "source": [
        "# Set plot style\n",
        "sns.set_style(\"whitegrid\")\n",
        "\n",
        "# Create a figure with two subplots\n",
        "fig, axes = plt.subplots(1, 2, figsize=(14, 5))\n",
        "\n",
        "# Histogram with KDE for Rating Distribution\n",
        "sns.histplot(data=df, x=\"rating\", bins=30, kde=True, ax=axes[0], color=\"royalblue\", alpha=0.5)\n",
        "axes[0].set_title(\"Rating Distribution\")\n",
        "axes[0].set_xlabel(\"Rating\")\n",
        "axes[0].set_ylabel(\"Frequency\")\n",
        "\n",
        "# Boxplot for Rating\n",
        "sns.boxplot(data=df, x=\"rating\", ax=axes[1], color=\"tomato\")\n",
        "axes[1].set_title(\"Rating Boxplot\")\n",
        "axes[1].set_xlabel(\"Rating\")\n",
        "\n",
        "# Show plots\n",
        "plt.tight_layout()\n",
        "plt.show()"
      ],
      "metadata": {
        "id": "ybb8rMwYQScZ",
        "colab": {
          "base_uri": "https://localhost:8080/",
          "height": 507
        },
        "outputId": "3765c576-d3d3-4eb1-c8df-800a6449083c"
      },
      "execution_count": 12,
      "outputs": [
        {
          "output_type": "display_data",
          "data": {
            "text/plain": [
              "<Figure size 1400x500 with 2 Axes>"
            ],
            "image/png": "[encoded data removed]"
          },
          "metadata": {}
        }
      ]
    },
    {
      "cell_type": "markdown",
      "source": [
        "### 📌 ***Rating Distribution Analysis*** 🏆\n",
        "Based on the histogram and boxplot, here’s what we can conclude about the ratings:\n",
        "\n",
        "📊 **Histogram Insights** (Left Plot)\n",
        "\n",
        "- Ratings are spread relatively evenly across the range (0 to 1).\n",
        "- There is no strong peak at any particular rating, suggesting diverse user feedback.\n",
        "- The KDE line indicates a slight increase in mid-to-high ratings, meaning users may prefer to give moderate or high ratings rather than extremely low ones.\n",
        "\n",
        "📉 **Boxplot Insights** (Right Plot)\n",
        "\n",
        "- The ratings are symmetrically distributed, with no extreme outliers.\n",
        "- The median (middle value) is near 0.5, which suggests a balanced mix of high and low ratings.\n",
        "- The interquartile range (IQR) spans almost the entire range, meaning ratings are well-distributed.\n",
        "\n",
        "👉 **Conclusion:**\n",
        "\n",
        "- The rating data appears well-balanced, with no major outliers or unusual patterns.\n",
        "- Users are not biased toward only giving high (near 1) or low (near 0) ratings.\n",
        "- This dataset is clean and usable for recommendation modeling without requiring much preprocessing."
      ],
      "metadata": {
        "id": "sQUMslczizRF"
      }
    },
    {
      "cell_type": "markdown",
      "source": [
        "### **Step 4: Most Popular Categories**\n",
        "\n",
        "We will identify the most common product categories to understand user preferences in this dataset."
      ],
      "metadata": {
        "id": "2VvT1fC2QshJ"
      }
    },
    {
      "cell_type": "code",
      "source": [
        "# Get the top 10 most common categories\n",
        "top_categories = df[\"category\"].value_counts().head(10)\n",
        "\n",
        "print(top_categories)\n",
        "# Convert index to string (if it's numerical or float)\n",
        "top_categories.index = top_categories.index.astype(str)\n",
        "\n",
        "# Set figure size\n",
        "plt.figure(figsize=(12, 5))\n",
        "\n",
        "# Updated barplot\n",
        "sns.barplot(x=top_categories.index, y=top_categories.values, hue=top_categories.index, palette=\"viridis\", legend=False)\n",
        "\n",
        "# Labels & Title\n",
        "plt.xlabel(\"Category\")\n",
        "plt.ylabel(\"Count\")\n",
        "plt.title(\"Top Most Common Categories\")\n",
        "\n",
        "# Rotate x-axis labels if necessary\n",
        "plt.xticks(rotation=45)\n",
        "\n",
        "# Show the plot\n",
        "plt.show()\n"
      ],
      "metadata": {
        "id": "SsaOSOTsQt4s",
        "colab": {
          "base_uri": "https://localhost:8080/",
          "height": 655
        },
        "outputId": "5e157e0c-47ae-40d3-f0c9-7de37a9a9107"
      },
      "execution_count": 13,
      "outputs": [
        {
          "output_type": "stream",
          "name": "stdout",
          "text": [
            "category\n",
            "Kids' Fashion      351\n",
            "Women's Fashion    327\n",
            "Men's Fashion      322\n",
            "Name: count, dtype: int64\n"
          ]
        },
        {
          "output_type": "display_data",
          "data": {
            "text/plain": [
              "<Figure size 1200x500 with 1 Axes>"
            ],
            "image/png": "[encoded data removed]"
          },
          "metadata": {}
        }
      ]
    },
    {
      "cell_type": "markdown",
      "source": [
        "### **Step 5: Most Popular Brands**\n",
        "\n",
        "We will analyze which brands are the most common  \n",
        "to get insights into brand popularity."
      ],
      "metadata": {
        "id": "rh_GgyL9RH3o"
      }
    },
    {
      "cell_type": "code",
      "source": [
        "# Check if brand column exists\n",
        "if \"brand\" in df.columns:\n",
        "    plt.figure(figsize=(12,5))\n",
        "\n",
        "    # Countplot for top brands\n",
        "    top_brands = df[\"brand\"].value_counts().head(10)\n",
        "    sns.barplot(x=top_brands.index, y=top_brands.values, hue=top_brands.index, palette=\"magma\", legend=False)\n",
        "    plt.xticks(rotation=45)\n",
        "    plt.title(\"Top Most Common Brands\")\n",
        "    plt.xlabel(\"Brand\")\n",
        "    plt.ylabel(\"Count\")\n",
        "    plt.show()"
      ],
      "metadata": {
        "id": "TNArDjVORL-O",
        "colab": {
          "base_uri": "https://localhost:8080/",
          "height": 516
        },
        "outputId": "95b12978-8929-4293-fcf4-f178dbfa9d66"
      },
      "execution_count": 14,
      "outputs": [
        {
          "output_type": "display_data",
          "data": {
            "text/plain": [
              "<Figure size 1200x500 with 1 Axes>"
            ],
            "image/png": "[encoded data removed]"
          },
          "metadata": {}
        }
      ]
    },
    {
      "cell_type": "markdown",
      "source": [
        "### **Step 6: User-Product Interactions**\n",
        "\n",
        "This plot shows how many interactions each user has with different products.\n",
        "A small number of users might interact a lot, while most users interact only a few times."
      ],
      "metadata": {
        "id": "uNRNN2pzaJ5_"
      }
    },
    {
      "cell_type": "code",
      "source": [
        "user_interactions = df.groupby(\"user_id\")[\"product_id\"].count()\n",
        "\n",
        "plt.figure(figsize=(10, 5))\n",
        "sns.histplot(user_interactions, bins=50, kde=True)\n",
        "plt.xlabel(\"Number of Interactions per User\")\n",
        "plt.ylabel(\"Count of Users\")\n",
        "plt.title(\"Distribution of User Interactions\")\n",
        "plt.show()"
      ],
      "metadata": {
        "id": "TkVVkEY-aLK_",
        "colab": {
          "base_uri": "https://localhost:8080/",
          "height": 487
        },
        "outputId": "d1445015-a567-4f44-ee60-9fb0460dbd3a"
      },
      "execution_count": 15,
      "outputs": [
        {
          "output_type": "display_data",
          "data": {
            "text/plain": [
              "<Figure size 1000x500 with 1 Axes>"
            ],
            "image/png": "[encoded data removed]"
          },
          "metadata": {}
        }
      ]
    },
    {
      "cell_type": "markdown",
      "source": [
        "### ***🔹Create a Separate Encoded Copy for Correlation Analysis:***"
      ],
      "metadata": {
        "id": "pXbMrmHWnpJ7"
      }
    },
    {
      "cell_type": "code",
      "source": [
        "from sklearn.preprocessing import LabelEncoder\n",
        "\n",
        "# Create a copy for encoding\n",
        "df_encoded = df.copy()\n",
        "\n",
        "# Identify categorical columns (non-numeric)\n",
        "categorical_cols = df_encoded.select_dtypes(include=[\"object\"]).columns\n",
        "\n",
        "# Apply Label Encoding to all categorical columns\n",
        "for col in categorical_cols:\n",
        "    le = LabelEncoder()\n",
        "    df_encoded[col] = le.fit_transform(df_encoded[col])"
      ],
      "metadata": {
        "id": "H0MHkyEonplW"
      },
      "execution_count": 16,
      "outputs": []
    },
    {
      "cell_type": "markdown",
      "source": [
        "### **Step 7: Heatmap - Correlation Matrix**"
      ],
      "metadata": {
        "id": "88BUyCMyljFw"
      }
    },
    {
      "cell_type": "code",
      "source": [
        "# Now use df_encoded for the heatmap\n",
        "plt.figure(figsize=(10, 6))\n",
        "sns.heatmap(df_encoded.corr(), annot=True, cmap=\"coolwarm\", fmt=\".2f\")\n",
        "plt.title(\"Feature Correlation Heatmap\")\n",
        "plt.show()"
      ],
      "metadata": {
        "id": "SR-AM1GVliKV",
        "colab": {
          "base_uri": "https://localhost:8080/",
          "height": 631
        },
        "outputId": "27d98804-5f24-4334-e864-7ac4480cb7f8"
      },
      "execution_count": 17,
      "outputs": [
        {
          "output_type": "display_data",
          "data": {
            "text/plain": [
              "<Figure size 1000x600 with 2 Axes>"
            ],
            "image/png": "[encoded data removed]"
          },
          "metadata": {}
        }
      ]
    },
    {
      "cell_type": "markdown",
      "source": [
        "## **📌 Phase 3: Recommendation System Development**"
      ],
      "metadata": {
        "id": "q4WSmi8cP80B"
      }
    },
    {
      "cell_type": "markdown",
      "source": [
        "### **Step 1: Collaborative Filtering (CF)**"
      ],
      "metadata": {
        "id": "jv1CjzK2OJBk"
      }
    },
    {
      "cell_type": "code",
      "source": [
        "!pip install scikit-surprise # Installing Surprise"
      ],
      "metadata": {
        "id": "CZbBBEwhPZSI",
        "colab": {
          "base_uri": "https://localhost:8080/"
        },
        "outputId": "d0f370a6-c916-40be-9cb5-948e4faa5900"
      },
      "execution_count": 18,
      "outputs": [
        {
          "output_type": "stream",
          "name": "stdout",
          "text": [
            "Collecting scikit-surprise\n",
            "  Downloading scikit_surprise-1.1.4.tar.gz (154 kB)\n",
            "\u001b[?25l     \u001b[90m━━━━━━━━━━━━━━━━━━━━━━━━━━━━━━━━━━━━━━━━\u001b[0m \u001b[32m0.0/154.4 kB\u001b[0m \u001b[31m?\u001b[0m eta \u001b[36m-:--:--\u001b[0m\r\u001b[2K     \u001b[90m━━━━━━━━━━━━━━━━━━━━━━━━━━━━━━━━━━━━━━━━\u001b[0m \u001b[32m154.4/154.4 kB\u001b[0m \u001b[31m9.1 MB/s\u001b[0m eta \u001b[36m0:00:00\u001b[0m\n",
            "\u001b[?25h  Installing build dependencies ... \u001b[?25l\u001b[?25hdone\n",
            "  Getting requirements to build wheel ... \u001b[?25l\u001b[?25hdone\n",
            "  Preparing metadata (pyproject.toml) ... \u001b[?25l\u001b[?25hdone\n",
            "Requirement already satisfied: joblib>=1.2.0 in /usr/local/lib/python3.11/dist-packages (from scikit-surprise) (1.4.2)\n",
            "Requirement already satisfied: numpy>=1.19.5 in /usr/local/lib/python3.11/dist-packages (from scikit-surprise) (1.24.4)\n",
            "Requirement already satisfied: scipy>=1.6.0 in /usr/local/lib/python3.11/dist-packages (from scikit-surprise) (1.14.1)\n",
            "Building wheels for collected packages: scikit-surprise\n",
            "  Building wheel for scikit-surprise (pyproject.toml) ... \u001b[?25l\u001b[?25hdone\n",
            "  Created wheel for scikit-surprise: filename=scikit_surprise-1.1.4-cp311-cp311-linux_x86_64.whl size=2505212 sha256=eeef99be16163493d7b2e1dd8075af39aba3d6d195fb329ff5077ba2278d6ddd\n",
            "  Stored in directory: /root/.cache/pip/wheels/2a/8f/6e/7e2899163e2d85d8266daab4aa1cdabec7a6c56f83c015b5af\n",
            "Successfully built scikit-surprise\n",
            "Installing collected packages: scikit-surprise\n",
            "Successfully installed scikit-surprise-1.1.4\n"
          ]
        }
      ]
    },
    {
      "cell_type": "code",
      "source": [
        "# Import Required Libraries\n",
        "from surprise import Dataset, Reader, SVD\n",
        "from surprise.model_selection import cross_validate"
      ],
      "metadata": {
        "id": "OVkxmuq5ujkx"
      },
      "execution_count": 19,
      "outputs": []
    },
    {
      "cell_type": "code",
      "source": [
        "# Convert Data to Surprise Format\n",
        "reader = Reader(rating_scale=(df['rating'].min(), df['rating'].max()))\n",
        "data = Dataset.load_from_df(df[['user_id', 'product_id', 'rating']], reader)"
      ],
      "metadata": {
        "id": "mJUxcW7APZux"
      },
      "execution_count": 20,
      "outputs": []
    },
    {
      "cell_type": "code",
      "source": [
        "# Train SVD Model\n",
        "model = SVD()\n",
        "cross_validate(model, data, cv=5, verbose=True)"
      ],
      "metadata": {
        "id": "4ze6ueBXPhAM",
        "colab": {
          "base_uri": "https://localhost:8080/"
        },
        "outputId": "c3f39330-f36b-494d-a11f-0e77e659a540"
      },
      "execution_count": 21,
      "outputs": [
        {
          "output_type": "stream",
          "name": "stdout",
          "text": [
            "Evaluating RMSE, MAE of algorithm SVD on 5 split(s).\n",
            "\n",
            "                  Fold 1  Fold 2  Fold 3  Fold 4  Fold 5  Mean    Std     \n",
            "RMSE (testset)    0.2928  0.2944  0.3085  0.2791  0.2971  0.2944  0.0094  \n",
            "MAE (testset)     0.2501  0.2475  0.2708  0.2377  0.2561  0.2524  0.0109  \n",
            "Fit time          0.02    0.02    0.02    0.02    0.02    0.02    0.00    \n",
            "Test time         0.00    0.00    0.00    0.00    0.00    0.00    0.00    \n"
          ]
        },
        {
          "output_type": "execute_result",
          "data": {
            "text/plain": [
              "{'test_rmse': array([0.29282889, 0.29438388, 0.30845293, 0.27906842, 0.29712487]),\n",
              " 'test_mae': array([0.25007188, 0.24746612, 0.27079322, 0.23771486, 0.25612062]),\n",
              " 'fit_time': (0.01763606071472168,\n",
              "  0.01685190200805664,\n",
              "  0.01642751693725586,\n",
              "  0.020128965377807617,\n",
              "  0.01647353172302246),\n",
              " 'test_time': (0.001046895980834961,\n",
              "  0.0009200572967529297,\n",
              "  0.0009219646453857422,\n",
              "  0.0022771358489990234,\n",
              "  0.0010313987731933594)}"
            ]
          },
          "metadata": {},
          "execution_count": 21
        }
      ]
    },
    {
      "cell_type": "markdown",
      "source": [
        "### **Step 2: Hyperparameter Tuning**"
      ],
      "metadata": {
        "id": "7qC0dRtlQGi9"
      }
    },
    {
      "cell_type": "code",
      "source": [
        "from surprise.model_selection import GridSearchCV\n",
        "\n",
        "# Define the Hyperparameter Grid\n",
        "\n",
        "param_grid = {\n",
        "    'n_factors': [50, 100, 150],   # Latent features\n",
        "    'n_epochs': [10, 20, 30],      # Training iterations\n",
        "    'lr_all': [0.002, 0.005, 0.01], # Learning rate\n",
        "    'reg_all': [0.02, 0.05, 0.1]    # Regularization\n",
        "}"
      ],
      "metadata": {
        "id": "wlvEXX43QazW"
      },
      "execution_count": 22,
      "outputs": []
    },
    {
      "cell_type": "code",
      "source": [
        "# Perform Grid Search CV\n",
        "\n",
        "gs = GridSearchCV(SVD, param_grid, measures=['rmse', 'mae'], cv=5)\n",
        "gs.fit(data)\n",
        "\n",
        "# Print Best RMSE & Best Hyperparameters\n",
        "\n",
        "print(f\"Best RMSE: {gs.best_score['rmse']}\")\n",
        "print(f\"Best Parameters: {gs.best_params['rmse']}\")"
      ],
      "metadata": {
        "id": "aRBd1U5MQu4m",
        "colab": {
          "base_uri": "https://localhost:8080/"
        },
        "outputId": "fd52cf43-7d37-4a8c-f2b6-ae4b318394ef"
      },
      "execution_count": 23,
      "outputs": [
        {
          "output_type": "stream",
          "name": "stdout",
          "text": [
            "Best RMSE: 0.2891348473465022\n",
            "Best Parameters: {'n_factors': 100, 'n_epochs': 10, 'lr_all': 0.002, 'reg_all': 0.05}\n"
          ]
        }
      ]
    },
    {
      "cell_type": "code",
      "source": [
        "# Train the model using the best parameters\n",
        "best_svd = SVD(n_factors=gs.best_params['rmse']['n_factors'],\n",
        "               n_epochs=gs.best_params['rmse']['n_epochs'],\n",
        "               lr_all=gs.best_params['rmse']['lr_all'],\n",
        "               reg_all=gs.best_params['rmse']['reg_all'])\n",
        "\n",
        "cross_validate(best_svd, data, cv=5, verbose=True)\n",
        "\n",
        "# 🔐 Save the trained best model for later use\n",
        "import pickle\n",
        "\n",
        "with open(\"best_svd_model.pkl\", \"wb\") as f:\n",
        "    pickle.dump(best_svd, f)\n",
        "\n",
        "print(\"✅ Best SVD model saved successfully!\")"
      ],
      "metadata": {
        "id": "sH3AbkBwQ5t2",
        "colab": {
          "base_uri": "https://localhost:8080/"
        },
        "outputId": "403de361-ada4-45f6-9945-a2697e221757"
      },
      "execution_count": 24,
      "outputs": [
        {
          "output_type": "stream",
          "name": "stdout",
          "text": [
            "Evaluating RMSE, MAE of algorithm SVD on 5 split(s).\n",
            "\n",
            "                  Fold 1  Fold 2  Fold 3  Fold 4  Fold 5  Mean    Std     \n",
            "RMSE (testset)    0.2984  0.2820  0.2866  0.2820  0.3046  0.2907  0.0092  \n",
            "MAE (testset)     0.2591  0.2446  0.2426  0.2431  0.2620  0.2503  0.0085  \n",
            "Fit time          0.01    0.01    0.01    0.01    0.01    0.01    0.00    \n",
            "Test time         0.00    0.00    0.00    0.00    0.00    0.00    0.00    \n",
            "✅ Best SVD model saved successfully!\n"
          ]
        }
      ]
    },
    {
      "cell_type": "markdown",
      "source": [
        "### **Step 3: Making Predictions for a Specific User**"
      ],
      "metadata": {
        "id": "AaAnDE63R2Ez"
      }
    },
    {
      "cell_type": "code",
      "source": [
        "# Predict the rating a user would give to a specific item\n",
        "user_id = \"23\"\n",
        "product_id = \"813\"\n",
        "\n",
        "pred = best_svd.predict(user_id, product_id)\n",
        "print(f\"Predicted rating for User {user_id} and Product {product_id}: {pred.est}\")"
      ],
      "metadata": {
        "id": "qM_kI46OR4jy",
        "colab": {
          "base_uri": "https://localhost:8080/"
        },
        "outputId": "4837988c-d46c-4438-d6a9-ae24c3bc0b7a"
      },
      "execution_count": 25,
      "outputs": [
        {
          "output_type": "stream",
          "name": "stdout",
          "text": [
            "Predicted rating for User 23 and Product 813: 0.4873938132921112\n"
          ]
        }
      ]
    },
    {
      "cell_type": "markdown",
      "source": [
        "###🔹**Top-N Recommendations for a User**"
      ],
      "metadata": {
        "id": "dEz0q-Vfdvb7"
      }
    },
    {
      "cell_type": "code",
      "source": [
        "# Function to get Top-N Recommendations for a User\n",
        "def get_top_n_recommendations(user_id, n=5):\n",
        "    all_products = df['product_id'].unique()\n",
        "    rated_products = df[df['user_id'] == user_id]['product_id'].values\n",
        "\n",
        "    # Predict ratings for unrated products\n",
        "    predictions = [best_svd.predict(user_id, prod_id) for prod_id in all_products if prod_id not in rated_products]\n",
        "\n",
        "    # Sort predictions by estimated rating\n",
        "    top_n = sorted(predictions, key=lambda x: x.est, reverse=True)[:n]\n",
        "\n",
        "    return [(pred.iid, pred.est) for pred in top_n]\n",
        "\n",
        "# Example: Get top 5 recommendations for User 23\n",
        "top_recommendations = get_top_n_recommendations('23', n=5)\n",
        "print(\"Top Recommendations for User 23:\", top_recommendations)"
      ],
      "metadata": {
        "id": "VoGR2Rlgdv8O",
        "colab": {
          "base_uri": "https://localhost:8080/"
        },
        "outputId": "1edab277-dd3e-4b57-da21-64beeabac610"
      },
      "execution_count": 26,
      "outputs": [
        {
          "output_type": "stream",
          "name": "stdout",
          "text": [
            "Top Recommendations for User 23: [(970, 0.5023379284991618), (609, 0.5014484023855933), (172, 0.5003407720077263), (638, 0.5000866368379875), (656, 0.5000214725814354)]\n"
          ]
        }
      ]
    },
    {
      "cell_type": "markdown",
      "source": [
        "## 📌 **Phase 4: Content-Based Filtering (CBF)**"
      ],
      "metadata": {
        "id": "C0Pnv1MmOvwB"
      }
    },
    {
      "cell_type": "markdown",
      "source": [
        "### **Step 1: Create a Combined Feature for Products**"
      ],
      "metadata": {
        "id": "ZT4BrqryQIi4"
      }
    },
    {
      "cell_type": "code",
      "source": [
        "### Step 1: Create a Combined Feature for Products\n",
        "from sklearn.feature_extraction.text import TfidfVectorizer\n",
        "\n",
        "# Convert label-encoded categorical values back to strings\n",
        "df[\"product_name\"] = df[\"product_name\"].astype(str)\n",
        "df[\"brand\"] = df[\"brand\"].astype(str)\n",
        "df[\"category\"] = df[\"category\"].astype(str)\n",
        "df[\"color\"] = df[\"color\"].astype(str)\n",
        "\n",
        "# Create combined feature column, replacing NaNs with empty strings\n",
        "df[\"combined_features\"] = (\n",
        "    df[\"product_name\"] + \" \" + df[\"brand\"] + \" \" + df[\"category\"] + \" \" + df[\"color\"]\n",
        ").fillna(\"\")\n",
        "\n",
        "# Remove rows where \"combined_features\" is empty\n",
        "df = df[df[\"combined_features\"].str.strip() != \"\"]\n",
        "\n",
        "# Initialize TF-IDF Vectorizer\n",
        "vectorizer = TfidfVectorizer(stop_words='english')\n",
        "\n",
        "# Transform combined features into TF-IDF matrix\n",
        "feature_matrix = vectorizer.fit_transform(df[\"combined_features\"])\n",
        "\n",
        "# Check the shape of the matrix (to confirm it's not empty)\n",
        "print(\"TF-IDF Matrix Shape:\", feature_matrix.shape)\n"
      ],
      "metadata": {
        "id": "WpyP9QKPOu-P",
        "colab": {
          "base_uri": "https://localhost:8080/"
        },
        "outputId": "8f21d919-31bf-4d67-bab1-60635e6058d4"
      },
      "execution_count": 27,
      "outputs": [
        {
          "output_type": "stream",
          "name": "stdout",
          "text": [
            "TF-IDF Matrix Shape: (1000, 19)\n"
          ]
        }
      ]
    },
    {
      "cell_type": "markdown",
      "source": [
        "### **Step 2: Compute Product Similarity Matrix**"
      ],
      "metadata": {
        "id": "g0Z4-1wVQPZR"
      }
    },
    {
      "cell_type": "code",
      "source": [
        "from sklearn.metrics.pairwise import cosine_similarity\n",
        "cosine_sim = cosine_similarity(feature_matrix)\n",
        "cosine_sim_df = pd.DataFrame(cosine_sim, index=df[\"product_id\"], columns=df[\"product_id\"])"
      ],
      "metadata": {
        "id": "YZkJL_D9QTXT"
      },
      "execution_count": 28,
      "outputs": []
    },
    {
      "cell_type": "markdown",
      "source": [
        "### **Step 3: Function to Get Similar Products**"
      ],
      "metadata": {
        "id": "mspMCDvMQYzE"
      }
    },
    {
      "cell_type": "code",
      "source": [
        "### Step 3: Function to Get Similar Products with Similarity Score + Error Handling\n",
        "def get_cbf_recommendations(product_id, top_n=5):\n",
        "    # Check if product ID exists\n",
        "    if product_id not in cosine_sim_df.index:\n",
        "        print(f\"❌ Product ID {product_id} not found in similarity matrix.\")\n",
        "        return pd.DataFrame()\n",
        "\n",
        "    # Sort similarity scores in descending order (excluding the same product)\n",
        "    sim_scores = cosine_sim_df[product_id].sort_values(ascending=False)[1:top_n+1]\n",
        "    recommended_ids = sim_scores.index\n",
        "\n",
        "    # Fetch product details from original dataframe\n",
        "    recommendations = df[df[\"product_id\"].isin(recommended_ids)][[\"product_id\", \"product_name\", \"brand\"]].copy()\n",
        "    recommendations[\"similarity_score\"] = sim_scores.values\n",
        "\n",
        "    return recommendations\n",
        "\n",
        "# Example usage\n",
        "get_cbf_recommendations(813)"
      ],
      "metadata": {
        "id": "HKkD9pdmQQH1",
        "colab": {
          "base_uri": "https://localhost:8080/",
          "height": 206
        },
        "outputId": "0b64e7a4-ec81-4fb6-f376-fd644858df56"
      },
      "execution_count": 29,
      "outputs": [
        {
          "output_type": "execute_result",
          "data": {
            "text/plain": [
              "     product_id product_name brand  similarity_score\n",
              "36           37      Sweater  Zara          1.000000\n",
              "571         572      Sweater   H&M          0.869466\n",
              "671         672      Sweater  Zara          0.840369\n",
              "812         813      Sweater  Zara          0.840369\n",
              "843         844      Sweater  Zara          0.840369"
            ],
            "text/html": [
              "\n",
              "  <div id=\"df-279fbfb7-dca8-4021-a238-0a3b66dbdbaf\" class=\"colab-df-container\">\n",
              "    <div>\n",
              "<style scoped>\n",
              "    .dataframe tbody tr th:only-of-type {\n",
              "        vertical-align: middle;\n",
              "    }\n",
              "\n",
              "    .dataframe tbody tr th {\n",
              "        vertical-align: top;\n",
              "    }\n",
              "\n",
              "    .dataframe thead th {\n",
              "        text-align: right;\n",
              "    }\n",
              "</style>\n",
              "<table border=\"1\" class=\"dataframe\">\n",
              "  <thead>\n",
              "    <tr style=\"text-align: right;\">\n",
              "      <th></th>\n",
              "      <th>product_id</th>\n",
              "      <th>product_name</th>\n",
              "      <th>brand</th>\n",
              "      <th>similarity_score</th>\n",
              "    </tr>\n",
              "  </thead>\n",
              "  <tbody>\n",
              "    <tr>\n",
              "      <th>36</th>\n",
              "      <td>37</td>\n",
              "      <td>Sweater</td>\n",
              "      <td>Zara</td>\n",
              "      <td>1.000000</td>\n",
              "    </tr>\n",
              "    <tr>\n",
              "      <th>571</th>\n",
              "      <td>572</td>\n",
              "      <td>Sweater</td>\n",
              "      <td>H&amp;M</td>\n",
              "      <td>0.869466</td>\n",
              "    </tr>\n",
              "    <tr>\n",
              "      <th>671</th>\n",
              "      <td>672</td>\n",
              "      <td>Sweater</td>\n",
              "      <td>Zara</td>\n",
              "      <td>0.840369</td>\n",
              "    </tr>\n",
              "    <tr>\n",
              "      <th>812</th>\n",
              "      <td>813</td>\n",
              "      <td>Sweater</td>\n",
              "      <td>Zara</td>\n",
              "      <td>0.840369</td>\n",
              "    </tr>\n",
              "    <tr>\n",
              "      <th>843</th>\n",
              "      <td>844</td>\n",
              "      <td>Sweater</td>\n",
              "      <td>Zara</td>\n",
              "      <td>0.840369</td>\n",
              "    </tr>\n",
              "  </tbody>\n",
              "</table>\n",
              "</div>\n",
              "    <div class=\"colab-df-buttons\">\n",
              "\n",
              "  <div class=\"colab-df-container\">\n",
              "    <button class=\"colab-df-convert\" onclick=\"convertToInteractive('df-279fbfb7-dca8-4021-a238-0a3b66dbdbaf')\"\n",
              "            title=\"Convert this dataframe to an interactive table.\"\n",
              "            style=\"display:none;\">\n",
              "\n",
              "  <svg xmlns=\"http://www.w3.org/2000/svg\" height=\"24px\" viewBox=\"0 -960 960 960\">\n",
              "    <path d=\"M120-120v-720h720v720H120Zm60-500h600v-160H180v160Zm220 220h160v-160H400v160Zm0 220h160v-160H400v160ZM180-400h160v-160H180v160Zm440 0h160v-160H620v160ZM180-180h160v-160H180v160Zm440 0h160v-160H620v160Z\"/>\n",
              "  </svg>\n",
              "    </button>\n",
              "\n",
              "  <style>\n",
              "    .colab-df-container {\n",
              "      display:flex;\n",
              "      gap: 12px;\n",
              "    }\n",
              "\n",
              "    .colab-df-convert {\n",
              "      background-color: #E8F0FE;\n",
              "      border: none;\n",
              "      border-radius: 50%;\n",
              "      cursor: pointer;\n",
              "      display: none;\n",
              "      fill: #1967D2;\n",
              "      height: 32px;\n",
              "      padding: 0 0 0 0;\n",
              "      width: 32px;\n",
              "    }\n",
              "\n",
              "    .colab-df-convert:hover {\n",
              "      background-color: #E2EBFA;\n",
              "      box-shadow: 0px 1px 2px rgba(60, 64, 67, 0.3), 0px 1px 3px 1px rgba(60, 64, 67, 0.15);\n",
              "      fill: #174EA6;\n",
              "    }\n",
              "\n",
              "    .colab-df-buttons div {\n",
              "      margin-bottom: 4px;\n",
              "    }\n",
              "\n",
              "    [theme=dark] .colab-df-convert {\n",
              "      background-color: #3B4455;\n",
              "      fill: #D2E3FC;\n",
              "    }\n",
              "\n",
              "    [theme=dark] .colab-df-convert:hover {\n",
              "      background-color: #434B5C;\n",
              "      box-shadow: 0px 1px 3px 1px rgba(0, 0, 0, 0.15);\n",
              "      filter: drop-shadow(0px 1px 2px rgba(0, 0, 0, 0.3));\n",
              "      fill: #FFFFFF;\n",
              "    }\n",
              "  </style>\n",
              "\n",
              "    <script>\n",
              "      const buttonEl =\n",
              "        document.querySelector('#df-279fbfb7-dca8-4021-a238-0a3b66dbdbaf button.colab-df-convert');\n",
              "      buttonEl.style.display =\n",
              "        google.colab.kernel.accessAllowed ? 'block' : 'none';\n",
              "\n",
              "      async function convertToInteractive(key) {\n",
              "        const element = document.querySelector('#df-279fbfb7-dca8-4021-a238-0a3b66dbdbaf');\n",
              "        const dataTable =\n",
              "          await google.colab.kernel.invokeFunction('convertToInteractive',\n",
              "                                                    [key], {});\n",
              "        if (!dataTable) return;\n",
              "\n",
              "        const docLinkHtml = 'Like what you see? Visit the ' +\n",
              "          '<a target=\"_blank\" href=https://colab.research.google.com/notebooks/data_table.ipynb>data table notebook</a>'\n",
              "          + ' to learn more about interactive tables.';\n",
              "        element.innerHTML = '';\n",
              "        dataTable['output_type'] = 'display_data';\n",
              "        await google.colab.output.renderOutput(dataTable, element);\n",
              "        const docLink = document.createElement('div');\n",
              "        docLink.innerHTML = docLinkHtml;\n",
              "        element.appendChild(docLink);\n",
              "      }\n",
              "    </script>\n",
              "  </div>\n",
              "\n",
              "\n",
              "<div id=\"df-45c83b45-1b5d-42f4-adf3-35867b155453\">\n",
              "  <button class=\"colab-df-quickchart\" onclick=\"quickchart('df-45c83b45-1b5d-42f4-adf3-35867b155453')\"\n",
              "            title=\"Suggest charts\"\n",
              "            style=\"display:none;\">\n",
              "\n",
              "<svg xmlns=\"http://www.w3.org/2000/svg\" height=\"24px\"viewBox=\"0 0 24 24\"\n",
              "     width=\"24px\">\n",
              "    <g>\n",
              "        <path d=\"M19 3H5c-1.1 0-2 .9-2 2v14c0 1.1.9 2 2 2h14c1.1 0 2-.9 2-2V5c0-1.1-.9-2-2-2zM9 17H7v-7h2v7zm4 0h-2V7h2v10zm4 0h-2v-4h2v4z\"/>\n",
              "    </g>\n",
              "</svg>\n",
              "  </button>\n",
              "\n",
              "<style>\n",
              "  .colab-df-quickchart {\n",
              "      --bg-color: #E8F0FE;\n",
              "      --fill-color: #1967D2;\n",
              "      --hover-bg-color: #E2EBFA;\n",
              "      --hover-fill-color: #174EA6;\n",
              "      --disabled-fill-color: #AAA;\n",
              "      --disabled-bg-color: #DDD;\n",
              "  }\n",
              "\n",
              "  [theme=dark] .colab-df-quickchart {\n",
              "      --bg-color: #3B4455;\n",
              "      --fill-color: #D2E3FC;\n",
              "      --hover-bg-color: #434B5C;\n",
              "      --hover-fill-color: #FFFFFF;\n",
              "      --disabled-bg-color: #3B4455;\n",
              "      --disabled-fill-color: #666;\n",
              "  }\n",
              "\n",
              "  .colab-df-quickchart {\n",
              "    background-color: var(--bg-color);\n",
              "    border: none;\n",
              "    border-radius: 50%;\n",
              "    cursor: pointer;\n",
              "    display: none;\n",
              "    fill: var(--fill-color);\n",
              "    height: 32px;\n",
              "    padding: 0;\n",
              "    width: 32px;\n",
              "  }\n",
              "\n",
              "  .colab-df-quickchart:hover {\n",
              "    background-color: var(--hover-bg-color);\n",
              "    box-shadow: 0 1px 2px rgba(60, 64, 67, 0.3), 0 1px 3px 1px rgba(60, 64, 67, 0.15);\n",
              "    fill: var(--button-hover-fill-color);\n",
              "  }\n",
              "\n",
              "  .colab-df-quickchart-complete:disabled,\n",
              "  .colab-df-quickchart-complete:disabled:hover {\n",
              "    background-color: var(--disabled-bg-color);\n",
              "    fill: var(--disabled-fill-color);\n",
              "    box-shadow: none;\n",
              "  }\n",
              "\n",
              "  .colab-df-spinner {\n",
              "    border: 2px solid var(--fill-color);\n",
              "    border-color: transparent;\n",
              "    border-bottom-color: var(--fill-color);\n",
              "    animation:\n",
              "      spin 1s steps(1) infinite;\n",
              "  }\n",
              "\n",
              "  @keyframes spin {\n",
              "    0% {\n",
              "      border-color: transparent;\n",
              "      border-bottom-color: var(--fill-color);\n",
              "      border-left-color: var(--fill-color);\n",
              "    }\n",
              "    20% {\n",
              "      border-color: transparent;\n",
              "      border-left-color: var(--fill-color);\n",
              "      border-top-color: var(--fill-color);\n",
              "    }\n",
              "    30% {\n",
              "      border-color: transparent;\n",
              "      border-left-color: var(--fill-color);\n",
              "      border-top-color: var(--fill-color);\n",
              "      border-right-color: var(--fill-color);\n",
              "    }\n",
              "    40% {\n",
              "      border-color: transparent;\n",
              "      border-right-color: var(--fill-color);\n",
              "      border-top-color: var(--fill-color);\n",
              "    }\n",
              "    60% {\n",
              "      border-color: transparent;\n",
              "      border-right-color: var(--fill-color);\n",
              "    }\n",
              "    80% {\n",
              "      border-color: transparent;\n",
              "      border-right-color: var(--fill-color);\n",
              "      border-bottom-color: var(--fill-color);\n",
              "    }\n",
              "    90% {\n",
              "      border-color: transparent;\n",
              "      border-bottom-color: var(--fill-color);\n",
              "    }\n",
              "  }\n",
              "</style>\n",
              "\n",
              "  <script>\n",
              "    async function quickchart(key) {\n",
              "      const quickchartButtonEl =\n",
              "        document.querySelector('#' + key + ' button');\n",
              "      quickchartButtonEl.disabled = true;  // To prevent multiple clicks.\n",
              "      quickchartButtonEl.classList.add('colab-df-spinner');\n",
              "      try {\n",
              "        const charts = await google.colab.kernel.invokeFunction(\n",
              "            'suggestCharts', [key], {});\n",
              "      } catch (error) {\n",
              "        console.error('Error during call to suggestCharts:', error);\n",
              "      }\n",
              "      quickchartButtonEl.classList.remove('colab-df-spinner');\n",
              "      quickchartButtonEl.classList.add('colab-df-quickchart-complete');\n",
              "    }\n",
              "    (() => {\n",
              "      let quickchartButtonEl =\n",
              "        document.querySelector('#df-45c83b45-1b5d-42f4-adf3-35867b155453 button');\n",
              "      quickchartButtonEl.style.display =\n",
              "        google.colab.kernel.accessAllowed ? 'block' : 'none';\n",
              "    })();\n",
              "  </script>\n",
              "</div>\n",
              "\n",
              "    </div>\n",
              "  </div>\n"
            ],
            "application/vnd.google.colaboratory.intrinsic+json": {
              "type": "dataframe",
              "summary": "{\n  \"name\": \"get_cbf_recommendations(813)\",\n  \"rows\": 5,\n  \"fields\": [\n    {\n      \"column\": \"product_id\",\n      \"properties\": {\n        \"dtype\": \"number\",\n        \"std\": 326,\n        \"min\": 37,\n        \"max\": 844,\n        \"num_unique_values\": 5,\n        \"samples\": [\n          572,\n          844,\n          672\n        ],\n        \"semantic_type\": \"\",\n        \"description\": \"\"\n      }\n    },\n    {\n      \"column\": \"product_name\",\n      \"properties\": {\n        \"dtype\": \"category\",\n        \"num_unique_values\": 1,\n        \"samples\": [\n          \"Sweater\"\n        ],\n        \"semantic_type\": \"\",\n        \"description\": \"\"\n      }\n    },\n    {\n      \"column\": \"brand\",\n      \"properties\": {\n        \"dtype\": \"category\",\n        \"num_unique_values\": 2,\n        \"samples\": [\n          \"H&M\"\n        ],\n        \"semantic_type\": \"\",\n        \"description\": \"\"\n      }\n    },\n    {\n      \"column\": \"similarity_score\",\n      \"properties\": {\n        \"dtype\": \"number\",\n        \"std\": 0.06929111838673263,\n        \"min\": 0.840369046734191,\n        \"max\": 1.0,\n        \"num_unique_values\": 3,\n        \"samples\": [\n          1.0\n        ],\n        \"semantic_type\": \"\",\n        \"description\": \"\"\n      }\n    }\n  ]\n}"
            }
          },
          "metadata": {},
          "execution_count": 29
        }
      ]
    }
  ]
}